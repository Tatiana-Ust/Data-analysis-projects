{
 "cells": [
  {
   "cell_type": "code",
   "execution_count": 1,
   "metadata": {},
   "outputs": [],
   "source": [
    "import pandas as pd\n",
    "import seaborn as sns\n",
    "import matplotlib.pyplot as plt\n",
    "from sklearn.model_selection import train_test_split\n",
    "from sklearn.linear_model import LogisticRegression\n",
    "from sklearn.metrics import r2_score\n",
    "from sklearn.ensemble import RandomForestClassifier\n",
    "from sklearn.metrics import accuracy_score, precision_score, recall_score, f1_score\n",
    "from scipy.cluster.hierarchy import dendrogram, linkage\n",
    "from sklearn.cluster import KMeans\n",
    "from sklearn.preprocessing import StandardScaler\n",
    "import plotly.express as px\n",
    "\n",
    "import warnings\n",
    "warnings.filterwarnings('ignore')"
   ]
  },
  {
   "cell_type": "markdown",
   "metadata": {},
   "source": [
    "## Import data"
   ]
  },
  {
   "cell_type": "code",
   "execution_count": 2,
   "metadata": {},
   "outputs": [],
   "source": [
    "# import data\n",
    "\n",
    "sheet_id = '1U8h4VIgGR9kFQcrAAcAr5yoHK_VpcdjN4WP9kzlTp98'\n",
    "sheet_name = 'logs_exp'\n",
    "url = f'https://docs.google.com/spreadsheets/d/{sheet_id}/gviz/tq?tqx=out:csv&sheet={sheet_name}'\n",
    "data = pd.read_csv(url)"
   ]
  },
  {
   "cell_type": "code",
   "execution_count": 3,
   "metadata": {},
   "outputs": [],
   "source": [
    "# the format for displaying numbers with two decimal places is set\n",
    "\n",
    "pd.set_option('display.float_format', '{:.2f}'.format) "
   ]
  },
  {
   "cell_type": "code",
   "execution_count": 4,
   "metadata": {},
   "outputs": [
    {
     "data": {
      "text/html": [
       "<div>\n",
       "<style scoped>\n",
       "    .dataframe tbody tr th:only-of-type {\n",
       "        vertical-align: middle;\n",
       "    }\n",
       "\n",
       "    .dataframe tbody tr th {\n",
       "        vertical-align: top;\n",
       "    }\n",
       "\n",
       "    .dataframe thead th {\n",
       "        text-align: right;\n",
       "    }\n",
       "</style>\n",
       "<table border=\"1\" class=\"dataframe\">\n",
       "  <thead>\n",
       "    <tr style=\"text-align: right;\">\n",
       "      <th></th>\n",
       "      <th>gender</th>\n",
       "      <th>Near_Location</th>\n",
       "      <th>Partner</th>\n",
       "      <th>Promo_friends</th>\n",
       "      <th>Phone</th>\n",
       "      <th>Contract_period</th>\n",
       "      <th>Group_visits</th>\n",
       "      <th>Age</th>\n",
       "      <th>Avg_additional_charges_total</th>\n",
       "      <th>Month_to_end_contract</th>\n",
       "      <th>Lifetime</th>\n",
       "      <th>Avg_class_frequency_total</th>\n",
       "      <th>Avg_class_frequency_current_month</th>\n",
       "      <th>Churn</th>\n",
       "    </tr>\n",
       "  </thead>\n",
       "  <tbody>\n",
       "    <tr>\n",
       "      <th>0</th>\n",
       "      <td>1</td>\n",
       "      <td>1</td>\n",
       "      <td>1</td>\n",
       "      <td>1</td>\n",
       "      <td>0</td>\n",
       "      <td>6</td>\n",
       "      <td>1</td>\n",
       "      <td>29</td>\n",
       "      <td>14.23</td>\n",
       "      <td>5.00</td>\n",
       "      <td>3</td>\n",
       "      <td>0.02</td>\n",
       "      <td>0.00</td>\n",
       "      <td>0</td>\n",
       "    </tr>\n",
       "    <tr>\n",
       "      <th>1</th>\n",
       "      <td>0</td>\n",
       "      <td>1</td>\n",
       "      <td>0</td>\n",
       "      <td>0</td>\n",
       "      <td>1</td>\n",
       "      <td>12</td>\n",
       "      <td>1</td>\n",
       "      <td>31</td>\n",
       "      <td>113.20</td>\n",
       "      <td>12.00</td>\n",
       "      <td>7</td>\n",
       "      <td>1.92</td>\n",
       "      <td>1.91</td>\n",
       "      <td>0</td>\n",
       "    </tr>\n",
       "    <tr>\n",
       "      <th>2</th>\n",
       "      <td>0</td>\n",
       "      <td>1</td>\n",
       "      <td>1</td>\n",
       "      <td>0</td>\n",
       "      <td>1</td>\n",
       "      <td>1</td>\n",
       "      <td>0</td>\n",
       "      <td>28</td>\n",
       "      <td>129.45</td>\n",
       "      <td>1.00</td>\n",
       "      <td>2</td>\n",
       "      <td>1.86</td>\n",
       "      <td>1.74</td>\n",
       "      <td>0</td>\n",
       "    </tr>\n",
       "    <tr>\n",
       "      <th>3</th>\n",
       "      <td>0</td>\n",
       "      <td>1</td>\n",
       "      <td>1</td>\n",
       "      <td>1</td>\n",
       "      <td>1</td>\n",
       "      <td>12</td>\n",
       "      <td>1</td>\n",
       "      <td>33</td>\n",
       "      <td>62.67</td>\n",
       "      <td>12.00</td>\n",
       "      <td>2</td>\n",
       "      <td>3.21</td>\n",
       "      <td>3.36</td>\n",
       "      <td>0</td>\n",
       "    </tr>\n",
       "    <tr>\n",
       "      <th>4</th>\n",
       "      <td>1</td>\n",
       "      <td>1</td>\n",
       "      <td>1</td>\n",
       "      <td>1</td>\n",
       "      <td>1</td>\n",
       "      <td>1</td>\n",
       "      <td>0</td>\n",
       "      <td>26</td>\n",
       "      <td>198.36</td>\n",
       "      <td>1.00</td>\n",
       "      <td>3</td>\n",
       "      <td>1.11</td>\n",
       "      <td>1.12</td>\n",
       "      <td>0</td>\n",
       "    </tr>\n",
       "  </tbody>\n",
       "</table>\n",
       "</div>"
      ],
      "text/plain": [
       "   gender  Near_Location  Partner  Promo_friends  Phone  Contract_period  \\\n",
       "0       1              1        1              1      0                6   \n",
       "1       0              1        0              0      1               12   \n",
       "2       0              1        1              0      1                1   \n",
       "3       0              1        1              1      1               12   \n",
       "4       1              1        1              1      1                1   \n",
       "\n",
       "   Group_visits  Age  Avg_additional_charges_total  Month_to_end_contract  \\\n",
       "0             1   29                         14.23                   5.00   \n",
       "1             1   31                        113.20                  12.00   \n",
       "2             0   28                        129.45                   1.00   \n",
       "3             1   33                         62.67                  12.00   \n",
       "4             0   26                        198.36                   1.00   \n",
       "\n",
       "   Lifetime  Avg_class_frequency_total  Avg_class_frequency_current_month  \\\n",
       "0         3                       0.02                               0.00   \n",
       "1         7                       1.92                               1.91   \n",
       "2         2                       1.86                               1.74   \n",
       "3         2                       3.21                               3.36   \n",
       "4         3                       1.11                               1.12   \n",
       "\n",
       "   Churn  \n",
       "0      0  \n",
       "1      0  \n",
       "2      0  \n",
       "3      0  \n",
       "4      0  "
      ]
     },
     "execution_count": 4,
     "metadata": {},
     "output_type": "execute_result"
    }
   ],
   "source": [
    "# the first 5 rows of the dataframe\n",
    "\n",
    "data.head()"
   ]
  },
  {
   "cell_type": "code",
   "execution_count": 5,
   "metadata": {},
   "outputs": [
    {
     "name": "stdout",
     "output_type": "stream",
     "text": [
      "Dataframe size: (4000, 14)\n"
     ]
    }
   ],
   "source": [
    "print('Dataframe size:', data.shape)"
   ]
  },
  {
   "cell_type": "code",
   "execution_count": 6,
   "metadata": {},
   "outputs": [
    {
     "name": "stdout",
     "output_type": "stream",
     "text": [
      "<class 'pandas.core.frame.DataFrame'>\n",
      "RangeIndex: 4000 entries, 0 to 3999\n",
      "Data columns (total 14 columns):\n",
      " #   Column                             Non-Null Count  Dtype  \n",
      "---  ------                             --------------  -----  \n",
      " 0   gender                             4000 non-null   int64  \n",
      " 1   Near_Location                      4000 non-null   int64  \n",
      " 2   Partner                            4000 non-null   int64  \n",
      " 3   Promo_friends                      4000 non-null   int64  \n",
      " 4   Phone                              4000 non-null   int64  \n",
      " 5   Contract_period                    4000 non-null   int64  \n",
      " 6   Group_visits                       4000 non-null   int64  \n",
      " 7   Age                                4000 non-null   int64  \n",
      " 8   Avg_additional_charges_total       4000 non-null   float64\n",
      " 9   Month_to_end_contract              4000 non-null   float64\n",
      " 10  Lifetime                           4000 non-null   int64  \n",
      " 11  Avg_class_frequency_total          4000 non-null   float64\n",
      " 12  Avg_class_frequency_current_month  4000 non-null   float64\n",
      " 13  Churn                              4000 non-null   int64  \n",
      "dtypes: float64(4), int64(10)\n",
      "memory usage: 437.6 KB\n"
     ]
    }
   ],
   "source": [
    "# basic information about the dataframe\n",
    "\n",
    "data.info()"
   ]
  },
  {
   "cell_type": "markdown",
   "metadata": {},
   "source": [
    "## Data preprocessing"
   ]
  },
  {
   "cell_type": "code",
   "execution_count": 7,
   "metadata": {},
   "outputs": [],
   "source": [
    "# renaming columns for convenience\n",
    "\n",
    "data.rename(columns={'Month_to_end_contract': 'end_month', \n",
    "                     'Avg_additional_charges_total': 'avg_additional', \n",
    "                     'Avg_class_frequency_total': 'avg_visits_total', \n",
    "                     'Avg_class_frequency_current_month': 'avg_visits_current'}, \n",
    "            inplace=True)"
   ]
  },
  {
   "cell_type": "code",
   "execution_count": 8,
   "metadata": {},
   "outputs": [],
   "source": [
    "# reducing the names of all columns to lowercase\n",
    "\n",
    "data.columns = data.columns.str.lower()"
   ]
  },
  {
   "cell_type": "code",
   "execution_count": 9,
   "metadata": {},
   "outputs": [],
   "source": [
    "# converting a column with the number of months to the int type\n",
    "\n",
    "data['end_month'] = data['end_month'].astype(int)"
   ]
  },
  {
   "cell_type": "code",
   "execution_count": 10,
   "metadata": {},
   "outputs": [
    {
     "data": {
      "text/html": [
       "<div>\n",
       "<style scoped>\n",
       "    .dataframe tbody tr th:only-of-type {\n",
       "        vertical-align: middle;\n",
       "    }\n",
       "\n",
       "    .dataframe tbody tr th {\n",
       "        vertical-align: top;\n",
       "    }\n",
       "\n",
       "    .dataframe thead th {\n",
       "        text-align: right;\n",
       "    }\n",
       "</style>\n",
       "<table border=\"1\" class=\"dataframe\">\n",
       "  <thead>\n",
       "    <tr style=\"text-align: right;\">\n",
       "      <th></th>\n",
       "      <th>gender</th>\n",
       "      <th>near_location</th>\n",
       "      <th>partner</th>\n",
       "      <th>promo_friends</th>\n",
       "      <th>phone</th>\n",
       "      <th>contract_period</th>\n",
       "      <th>group_visits</th>\n",
       "      <th>age</th>\n",
       "      <th>avg_additional</th>\n",
       "      <th>end_month</th>\n",
       "      <th>lifetime</th>\n",
       "      <th>avg_visits_total</th>\n",
       "      <th>avg_visits_current</th>\n",
       "      <th>churn</th>\n",
       "    </tr>\n",
       "  </thead>\n",
       "  <tbody>\n",
       "    <tr>\n",
       "      <th>0</th>\n",
       "      <td>1</td>\n",
       "      <td>1</td>\n",
       "      <td>1</td>\n",
       "      <td>1</td>\n",
       "      <td>0</td>\n",
       "      <td>6</td>\n",
       "      <td>1</td>\n",
       "      <td>29</td>\n",
       "      <td>14.23</td>\n",
       "      <td>5</td>\n",
       "      <td>3</td>\n",
       "      <td>0.02</td>\n",
       "      <td>0.00</td>\n",
       "      <td>0</td>\n",
       "    </tr>\n",
       "    <tr>\n",
       "      <th>1</th>\n",
       "      <td>0</td>\n",
       "      <td>1</td>\n",
       "      <td>0</td>\n",
       "      <td>0</td>\n",
       "      <td>1</td>\n",
       "      <td>12</td>\n",
       "      <td>1</td>\n",
       "      <td>31</td>\n",
       "      <td>113.20</td>\n",
       "      <td>12</td>\n",
       "      <td>7</td>\n",
       "      <td>1.92</td>\n",
       "      <td>1.91</td>\n",
       "      <td>0</td>\n",
       "    </tr>\n",
       "    <tr>\n",
       "      <th>2</th>\n",
       "      <td>0</td>\n",
       "      <td>1</td>\n",
       "      <td>1</td>\n",
       "      <td>0</td>\n",
       "      <td>1</td>\n",
       "      <td>1</td>\n",
       "      <td>0</td>\n",
       "      <td>28</td>\n",
       "      <td>129.45</td>\n",
       "      <td>1</td>\n",
       "      <td>2</td>\n",
       "      <td>1.86</td>\n",
       "      <td>1.74</td>\n",
       "      <td>0</td>\n",
       "    </tr>\n",
       "    <tr>\n",
       "      <th>3</th>\n",
       "      <td>0</td>\n",
       "      <td>1</td>\n",
       "      <td>1</td>\n",
       "      <td>1</td>\n",
       "      <td>1</td>\n",
       "      <td>12</td>\n",
       "      <td>1</td>\n",
       "      <td>33</td>\n",
       "      <td>62.67</td>\n",
       "      <td>12</td>\n",
       "      <td>2</td>\n",
       "      <td>3.21</td>\n",
       "      <td>3.36</td>\n",
       "      <td>0</td>\n",
       "    </tr>\n",
       "    <tr>\n",
       "      <th>4</th>\n",
       "      <td>1</td>\n",
       "      <td>1</td>\n",
       "      <td>1</td>\n",
       "      <td>1</td>\n",
       "      <td>1</td>\n",
       "      <td>1</td>\n",
       "      <td>0</td>\n",
       "      <td>26</td>\n",
       "      <td>198.36</td>\n",
       "      <td>1</td>\n",
       "      <td>3</td>\n",
       "      <td>1.11</td>\n",
       "      <td>1.12</td>\n",
       "      <td>0</td>\n",
       "    </tr>\n",
       "  </tbody>\n",
       "</table>\n",
       "</div>"
      ],
      "text/plain": [
       "   gender  near_location  partner  promo_friends  phone  contract_period  \\\n",
       "0       1              1        1              1      0                6   \n",
       "1       0              1        0              0      1               12   \n",
       "2       0              1        1              0      1                1   \n",
       "3       0              1        1              1      1               12   \n",
       "4       1              1        1              1      1                1   \n",
       "\n",
       "   group_visits  age  avg_additional  end_month  lifetime  avg_visits_total  \\\n",
       "0             1   29           14.23          5         3              0.02   \n",
       "1             1   31          113.20         12         7              1.92   \n",
       "2             0   28          129.45          1         2              1.86   \n",
       "3             1   33           62.67         12         2              3.21   \n",
       "4             0   26          198.36          1         3              1.11   \n",
       "\n",
       "   avg_visits_current  churn  \n",
       "0                0.00      0  \n",
       "1                1.91      0  \n",
       "2                1.74      0  \n",
       "3                3.36      0  \n",
       "4                1.12      0  "
      ]
     },
     "execution_count": 10,
     "metadata": {},
     "output_type": "execute_result"
    }
   ],
   "source": [
    "data.head()"
   ]
  },
  {
   "cell_type": "code",
   "execution_count": 11,
   "metadata": {},
   "outputs": [
    {
     "name": "stdout",
     "output_type": "stream",
     "text": [
      "Number of duplicates: 0\n"
     ]
    }
   ],
   "source": [
    "print('Number of duplicates:', data.duplicated().sum())"
   ]
  },
  {
   "cell_type": "markdown",
   "metadata": {},
   "source": [
    "Missing data is not detected, categorical data is also missing"
   ]
  },
  {
   "cell_type": "markdown",
   "metadata": {},
   "source": [
    "## Research data analysis"
   ]
  },
  {
   "cell_type": "code",
   "execution_count": 12,
   "metadata": {},
   "outputs": [
    {
     "data": {
      "text/html": [
       "<div>\n",
       "<style scoped>\n",
       "    .dataframe tbody tr th:only-of-type {\n",
       "        vertical-align: middle;\n",
       "    }\n",
       "\n",
       "    .dataframe tbody tr th {\n",
       "        vertical-align: top;\n",
       "    }\n",
       "\n",
       "    .dataframe thead th {\n",
       "        text-align: right;\n",
       "    }\n",
       "</style>\n",
       "<table border=\"1\" class=\"dataframe\">\n",
       "  <thead>\n",
       "    <tr style=\"text-align: right;\">\n",
       "      <th></th>\n",
       "      <th>count</th>\n",
       "      <th>mean</th>\n",
       "      <th>std</th>\n",
       "      <th>min</th>\n",
       "      <th>25%</th>\n",
       "      <th>50%</th>\n",
       "      <th>75%</th>\n",
       "      <th>max</th>\n",
       "    </tr>\n",
       "  </thead>\n",
       "  <tbody>\n",
       "    <tr>\n",
       "      <th>gender</th>\n",
       "      <td>4000.00</td>\n",
       "      <td>0.51</td>\n",
       "      <td>0.50</td>\n",
       "      <td>0.00</td>\n",
       "      <td>0.00</td>\n",
       "      <td>1.00</td>\n",
       "      <td>1.00</td>\n",
       "      <td>1.00</td>\n",
       "    </tr>\n",
       "    <tr>\n",
       "      <th>near_location</th>\n",
       "      <td>4000.00</td>\n",
       "      <td>0.85</td>\n",
       "      <td>0.36</td>\n",
       "      <td>0.00</td>\n",
       "      <td>1.00</td>\n",
       "      <td>1.00</td>\n",
       "      <td>1.00</td>\n",
       "      <td>1.00</td>\n",
       "    </tr>\n",
       "    <tr>\n",
       "      <th>partner</th>\n",
       "      <td>4000.00</td>\n",
       "      <td>0.49</td>\n",
       "      <td>0.50</td>\n",
       "      <td>0.00</td>\n",
       "      <td>0.00</td>\n",
       "      <td>0.00</td>\n",
       "      <td>1.00</td>\n",
       "      <td>1.00</td>\n",
       "    </tr>\n",
       "    <tr>\n",
       "      <th>promo_friends</th>\n",
       "      <td>4000.00</td>\n",
       "      <td>0.31</td>\n",
       "      <td>0.46</td>\n",
       "      <td>0.00</td>\n",
       "      <td>0.00</td>\n",
       "      <td>0.00</td>\n",
       "      <td>1.00</td>\n",
       "      <td>1.00</td>\n",
       "    </tr>\n",
       "    <tr>\n",
       "      <th>phone</th>\n",
       "      <td>4000.00</td>\n",
       "      <td>0.90</td>\n",
       "      <td>0.30</td>\n",
       "      <td>0.00</td>\n",
       "      <td>1.00</td>\n",
       "      <td>1.00</td>\n",
       "      <td>1.00</td>\n",
       "      <td>1.00</td>\n",
       "    </tr>\n",
       "    <tr>\n",
       "      <th>contract_period</th>\n",
       "      <td>4000.00</td>\n",
       "      <td>4.68</td>\n",
       "      <td>4.55</td>\n",
       "      <td>1.00</td>\n",
       "      <td>1.00</td>\n",
       "      <td>1.00</td>\n",
       "      <td>6.00</td>\n",
       "      <td>12.00</td>\n",
       "    </tr>\n",
       "    <tr>\n",
       "      <th>group_visits</th>\n",
       "      <td>4000.00</td>\n",
       "      <td>0.41</td>\n",
       "      <td>0.49</td>\n",
       "      <td>0.00</td>\n",
       "      <td>0.00</td>\n",
       "      <td>0.00</td>\n",
       "      <td>1.00</td>\n",
       "      <td>1.00</td>\n",
       "    </tr>\n",
       "    <tr>\n",
       "      <th>age</th>\n",
       "      <td>4000.00</td>\n",
       "      <td>29.18</td>\n",
       "      <td>3.26</td>\n",
       "      <td>18.00</td>\n",
       "      <td>27.00</td>\n",
       "      <td>29.00</td>\n",
       "      <td>31.00</td>\n",
       "      <td>41.00</td>\n",
       "    </tr>\n",
       "    <tr>\n",
       "      <th>avg_additional</th>\n",
       "      <td>4000.00</td>\n",
       "      <td>146.94</td>\n",
       "      <td>96.36</td>\n",
       "      <td>0.15</td>\n",
       "      <td>68.87</td>\n",
       "      <td>136.22</td>\n",
       "      <td>210.95</td>\n",
       "      <td>552.59</td>\n",
       "    </tr>\n",
       "    <tr>\n",
       "      <th>end_month</th>\n",
       "      <td>4000.00</td>\n",
       "      <td>4.32</td>\n",
       "      <td>4.19</td>\n",
       "      <td>1.00</td>\n",
       "      <td>1.00</td>\n",
       "      <td>1.00</td>\n",
       "      <td>6.00</td>\n",
       "      <td>12.00</td>\n",
       "    </tr>\n",
       "    <tr>\n",
       "      <th>lifetime</th>\n",
       "      <td>4000.00</td>\n",
       "      <td>3.72</td>\n",
       "      <td>3.75</td>\n",
       "      <td>0.00</td>\n",
       "      <td>1.00</td>\n",
       "      <td>3.00</td>\n",
       "      <td>5.00</td>\n",
       "      <td>31.00</td>\n",
       "    </tr>\n",
       "    <tr>\n",
       "      <th>avg_visits_total</th>\n",
       "      <td>4000.00</td>\n",
       "      <td>1.88</td>\n",
       "      <td>0.97</td>\n",
       "      <td>0.00</td>\n",
       "      <td>1.18</td>\n",
       "      <td>1.83</td>\n",
       "      <td>2.54</td>\n",
       "      <td>6.02</td>\n",
       "    </tr>\n",
       "    <tr>\n",
       "      <th>avg_visits_current</th>\n",
       "      <td>4000.00</td>\n",
       "      <td>1.77</td>\n",
       "      <td>1.05</td>\n",
       "      <td>0.00</td>\n",
       "      <td>0.96</td>\n",
       "      <td>1.72</td>\n",
       "      <td>2.51</td>\n",
       "      <td>6.15</td>\n",
       "    </tr>\n",
       "    <tr>\n",
       "      <th>churn</th>\n",
       "      <td>4000.00</td>\n",
       "      <td>0.27</td>\n",
       "      <td>0.44</td>\n",
       "      <td>0.00</td>\n",
       "      <td>0.00</td>\n",
       "      <td>0.00</td>\n",
       "      <td>1.00</td>\n",
       "      <td>1.00</td>\n",
       "    </tr>\n",
       "  </tbody>\n",
       "</table>\n",
       "</div>"
      ],
      "text/plain": [
       "                     count   mean   std   min   25%    50%    75%    max\n",
       "gender             4000.00   0.51  0.50  0.00  0.00   1.00   1.00   1.00\n",
       "near_location      4000.00   0.85  0.36  0.00  1.00   1.00   1.00   1.00\n",
       "partner            4000.00   0.49  0.50  0.00  0.00   0.00   1.00   1.00\n",
       "promo_friends      4000.00   0.31  0.46  0.00  0.00   0.00   1.00   1.00\n",
       "phone              4000.00   0.90  0.30  0.00  1.00   1.00   1.00   1.00\n",
       "contract_period    4000.00   4.68  4.55  1.00  1.00   1.00   6.00  12.00\n",
       "group_visits       4000.00   0.41  0.49  0.00  0.00   0.00   1.00   1.00\n",
       "age                4000.00  29.18  3.26 18.00 27.00  29.00  31.00  41.00\n",
       "avg_additional     4000.00 146.94 96.36  0.15 68.87 136.22 210.95 552.59\n",
       "end_month          4000.00   4.32  4.19  1.00  1.00   1.00   6.00  12.00\n",
       "lifetime           4000.00   3.72  3.75  0.00  1.00   3.00   5.00  31.00\n",
       "avg_visits_total   4000.00   1.88  0.97  0.00  1.18   1.83   2.54   6.02\n",
       "avg_visits_current 4000.00   1.77  1.05  0.00  0.96   1.72   2.51   6.15\n",
       "churn              4000.00   0.27  0.44  0.00  0.00   0.00   1.00   1.00"
      ]
     },
     "execution_count": 12,
     "metadata": {},
     "output_type": "execute_result"
    }
   ],
   "source": [
    "# information about columns containing non-binary data\n",
    "\n",
    "data.describe().T"
   ]
  },
  {
   "cell_type": "code",
   "execution_count": 13,
   "metadata": {},
   "outputs": [
    {
     "data": {
      "text/html": [
       "<div>\n",
       "<style scoped>\n",
       "    .dataframe tbody tr th:only-of-type {\n",
       "        vertical-align: middle;\n",
       "    }\n",
       "\n",
       "    .dataframe tbody tr th {\n",
       "        vertical-align: top;\n",
       "    }\n",
       "\n",
       "    .dataframe thead th {\n",
       "        text-align: right;\n",
       "    }\n",
       "</style>\n",
       "<table border=\"1\" class=\"dataframe\">\n",
       "  <thead>\n",
       "    <tr style=\"text-align: right;\">\n",
       "      <th></th>\n",
       "      <th>contract_period</th>\n",
       "      <th>age</th>\n",
       "      <th>avg_additional</th>\n",
       "      <th>end_month</th>\n",
       "      <th>lifetime</th>\n",
       "      <th>avg_visits_total</th>\n",
       "      <th>avg_visits_current</th>\n",
       "    </tr>\n",
       "    <tr>\n",
       "      <th>churn</th>\n",
       "      <th></th>\n",
       "      <th></th>\n",
       "      <th></th>\n",
       "      <th></th>\n",
       "      <th></th>\n",
       "      <th></th>\n",
       "      <th></th>\n",
       "    </tr>\n",
       "  </thead>\n",
       "  <tbody>\n",
       "    <tr>\n",
       "      <th>0</th>\n",
       "      <td>5.75</td>\n",
       "      <td>29.98</td>\n",
       "      <td>158.45</td>\n",
       "      <td>5.28</td>\n",
       "      <td>4.71</td>\n",
       "      <td>2.02</td>\n",
       "      <td>2.03</td>\n",
       "    </tr>\n",
       "    <tr>\n",
       "      <th>1</th>\n",
       "      <td>1.73</td>\n",
       "      <td>26.99</td>\n",
       "      <td>115.08</td>\n",
       "      <td>1.66</td>\n",
       "      <td>0.99</td>\n",
       "      <td>1.47</td>\n",
       "      <td>1.04</td>\n",
       "    </tr>\n",
       "  </tbody>\n",
       "</table>\n",
       "</div>"
      ],
      "text/plain": [
       "       contract_period   age  avg_additional  end_month  lifetime  \\\n",
       "churn                                                               \n",
       "0                 5.75 29.98          158.45       5.28      4.71   \n",
       "1                 1.73 26.99          115.08       1.66      0.99   \n",
       "\n",
       "       avg_visits_total  avg_visits_current  \n",
       "churn                                        \n",
       "0                  2.02                2.03  \n",
       "1                  1.47                1.04  "
      ]
     },
     "execution_count": 13,
     "metadata": {},
     "output_type": "execute_result"
    }
   ],
   "source": [
    "# grouping the aforementioned data to view averages\n",
    "\n",
    "churn_groupby = data.groupby('churn')[['contract_period', \n",
    "                                       'age', 'avg_additional', \n",
    "                                       'end_month', 'lifetime', \n",
    "                                       'avg_visits_total', \n",
    "                                       'avg_visits_current']].mean()\n",
    "\n",
    "churn_groupby"
   ]
  },
  {
   "cell_type": "code",
   "execution_count": 14,
   "metadata": {},
   "outputs": [
    {
     "data": {
      "text/plain": [
       "{'churn': 'The fact of outflow in the current month',\n",
       " 'gender': 'Clients gender',\n",
       " 'near_location': 'Living or working in the area where the fitness center is located',\n",
       " 'partner': 'Employee of the clubs partner company',\n",
       " 'promo_friends': 'The fact of the initial recording within the framework of the \"bring a friend\" campaign',\n",
       " 'phone': 'Availability of a contact phone number',\n",
       " 'contract_period': 'Duration of the current valid subscription',\n",
       " 'group_visits': 'The fact of attending group classes',\n",
       " 'age': 'Clients age',\n",
       " 'avg_additional': 'Total revenue from other services',\n",
       " 'end_month': 'The period until the end of the current subscription',\n",
       " 'lifetime': 'Time since the first visit to the fitness center',\n",
       " 'avg_visits_total': 'Average frequency of visits per week for all time',\n",
       " 'avg_visits_current': 'Average frequency of visits per week for the previous month'}"
      ]
     },
     "execution_count": 14,
     "metadata": {},
     "output_type": "execute_result"
    }
   ],
   "source": [
    "# dictionary with decryption of column names\n",
    "\n",
    "name_dict = {'churn':  'The fact of outflow in the current month',  \n",
    "                    'gender':  'Clients gender',  \n",
    "                    'near_location':  'Living or working in the area where the fitness center is located',  \n",
    "                    'partner':  'Employee of the clubs partner company',  \n",
    "                    'promo_friends':  'The fact of the initial recording within the framework of the \"bring a friend\" campaign',  \n",
    "                    'phone':  'Availability of a contact phone number',  \n",
    "                    'contract_period':  'Duration of the current valid subscription', \n",
    "                    'group_visits':  'The fact of attending group classes',  \n",
    "                    'age':  'Clients age',  \n",
    "                    'avg_additional':  'Total revenue from other services',  \n",
    "                    'end_month':  'The period until the end of the current subscription',  \n",
    "                    'lifetime':  'Time since the first visit to the fitness center',  \n",
    "                    'avg_visits_total':  'Average frequency of visits per week for all time',  \n",
    "                    'avg_visits_current':  'Average frequency of visits per week for the previous month'}\n",
    "name_dict"
   ]
  },
  {
   "cell_type": "code",
   "execution_count": 16,
   "metadata": {},
   "outputs": [
    {
     "data": {
      "text/html": [
       "<div>\n",
       "<style scoped>\n",
       "    .dataframe tbody tr th:only-of-type {\n",
       "        vertical-align: middle;\n",
       "    }\n",
       "\n",
       "    .dataframe tbody tr th {\n",
       "        vertical-align: top;\n",
       "    }\n",
       "\n",
       "    .dataframe thead th {\n",
       "        text-align: right;\n",
       "    }\n",
       "</style>\n",
       "<table border=\"1\" class=\"dataframe\">\n",
       "  <thead>\n",
       "    <tr style=\"text-align: right;\">\n",
       "      <th></th>\n",
       "      <th>gender</th>\n",
       "      <th>near_location</th>\n",
       "      <th>partner</th>\n",
       "      <th>promo_friends</th>\n",
       "      <th>phone</th>\n",
       "      <th>contract_period</th>\n",
       "      <th>group_visits</th>\n",
       "      <th>age</th>\n",
       "      <th>avg_additional</th>\n",
       "      <th>end_month</th>\n",
       "      <th>lifetime</th>\n",
       "      <th>avg_visits_total</th>\n",
       "      <th>avg_visits_current</th>\n",
       "      <th>churn</th>\n",
       "    </tr>\n",
       "  </thead>\n",
       "  <tbody>\n",
       "    <tr>\n",
       "      <th>gender</th>\n",
       "      <td>1.00</td>\n",
       "      <td>0.01</td>\n",
       "      <td>-0.01</td>\n",
       "      <td>-0.01</td>\n",
       "      <td>-0.01</td>\n",
       "      <td>0.00</td>\n",
       "      <td>0.02</td>\n",
       "      <td>0.01</td>\n",
       "      <td>-0.01</td>\n",
       "      <td>-0.00</td>\n",
       "      <td>0.01</td>\n",
       "      <td>0.01</td>\n",
       "      <td>0.01</td>\n",
       "      <td>0.00</td>\n",
       "    </tr>\n",
       "    <tr>\n",
       "      <th>near_location</th>\n",
       "      <td>0.01</td>\n",
       "      <td>1.00</td>\n",
       "      <td>-0.01</td>\n",
       "      <td>0.21</td>\n",
       "      <td>-0.02</td>\n",
       "      <td>0.15</td>\n",
       "      <td>0.15</td>\n",
       "      <td>0.06</td>\n",
       "      <td>0.04</td>\n",
       "      <td>0.14</td>\n",
       "      <td>0.07</td>\n",
       "      <td>0.04</td>\n",
       "      <td>0.06</td>\n",
       "      <td>-0.13</td>\n",
       "    </tr>\n",
       "    <tr>\n",
       "      <th>partner</th>\n",
       "      <td>-0.01</td>\n",
       "      <td>-0.01</td>\n",
       "      <td>1.00</td>\n",
       "      <td>0.45</td>\n",
       "      <td>0.01</td>\n",
       "      <td>0.31</td>\n",
       "      <td>0.02</td>\n",
       "      <td>0.05</td>\n",
       "      <td>0.02</td>\n",
       "      <td>0.29</td>\n",
       "      <td>0.06</td>\n",
       "      <td>0.02</td>\n",
       "      <td>0.05</td>\n",
       "      <td>-0.16</td>\n",
       "    </tr>\n",
       "    <tr>\n",
       "      <th>promo_friends</th>\n",
       "      <td>-0.01</td>\n",
       "      <td>0.21</td>\n",
       "      <td>0.45</td>\n",
       "      <td>1.00</td>\n",
       "      <td>0.00</td>\n",
       "      <td>0.24</td>\n",
       "      <td>0.12</td>\n",
       "      <td>0.05</td>\n",
       "      <td>0.04</td>\n",
       "      <td>0.24</td>\n",
       "      <td>0.07</td>\n",
       "      <td>0.03</td>\n",
       "      <td>0.05</td>\n",
       "      <td>-0.16</td>\n",
       "    </tr>\n",
       "    <tr>\n",
       "      <th>phone</th>\n",
       "      <td>-0.01</td>\n",
       "      <td>-0.02</td>\n",
       "      <td>0.01</td>\n",
       "      <td>0.00</td>\n",
       "      <td>1.00</td>\n",
       "      <td>-0.01</td>\n",
       "      <td>-0.01</td>\n",
       "      <td>-0.01</td>\n",
       "      <td>0.01</td>\n",
       "      <td>-0.01</td>\n",
       "      <td>-0.02</td>\n",
       "      <td>0.01</td>\n",
       "      <td>0.01</td>\n",
       "      <td>-0.00</td>\n",
       "    </tr>\n",
       "    <tr>\n",
       "      <th>contract_period</th>\n",
       "      <td>0.00</td>\n",
       "      <td>0.15</td>\n",
       "      <td>0.31</td>\n",
       "      <td>0.24</td>\n",
       "      <td>-0.01</td>\n",
       "      <td>1.00</td>\n",
       "      <td>0.17</td>\n",
       "      <td>0.14</td>\n",
       "      <td>0.11</td>\n",
       "      <td>0.97</td>\n",
       "      <td>0.17</td>\n",
       "      <td>0.10</td>\n",
       "      <td>0.16</td>\n",
       "      <td>-0.39</td>\n",
       "    </tr>\n",
       "    <tr>\n",
       "      <th>group_visits</th>\n",
       "      <td>0.02</td>\n",
       "      <td>0.15</td>\n",
       "      <td>0.02</td>\n",
       "      <td>0.12</td>\n",
       "      <td>-0.01</td>\n",
       "      <td>0.17</td>\n",
       "      <td>1.00</td>\n",
       "      <td>0.08</td>\n",
       "      <td>0.03</td>\n",
       "      <td>0.16</td>\n",
       "      <td>0.08</td>\n",
       "      <td>0.06</td>\n",
       "      <td>0.08</td>\n",
       "      <td>-0.18</td>\n",
       "    </tr>\n",
       "    <tr>\n",
       "      <th>age</th>\n",
       "      <td>0.01</td>\n",
       "      <td>0.06</td>\n",
       "      <td>0.05</td>\n",
       "      <td>0.05</td>\n",
       "      <td>-0.01</td>\n",
       "      <td>0.14</td>\n",
       "      <td>0.08</td>\n",
       "      <td>1.00</td>\n",
       "      <td>0.08</td>\n",
       "      <td>0.13</td>\n",
       "      <td>0.16</td>\n",
       "      <td>0.12</td>\n",
       "      <td>0.18</td>\n",
       "      <td>-0.40</td>\n",
       "    </tr>\n",
       "    <tr>\n",
       "      <th>avg_additional</th>\n",
       "      <td>-0.01</td>\n",
       "      <td>0.04</td>\n",
       "      <td>0.02</td>\n",
       "      <td>0.04</td>\n",
       "      <td>0.01</td>\n",
       "      <td>0.11</td>\n",
       "      <td>0.03</td>\n",
       "      <td>0.08</td>\n",
       "      <td>1.00</td>\n",
       "      <td>0.11</td>\n",
       "      <td>0.08</td>\n",
       "      <td>0.04</td>\n",
       "      <td>0.08</td>\n",
       "      <td>-0.20</td>\n",
       "    </tr>\n",
       "    <tr>\n",
       "      <th>end_month</th>\n",
       "      <td>-0.00</td>\n",
       "      <td>0.14</td>\n",
       "      <td>0.29</td>\n",
       "      <td>0.24</td>\n",
       "      <td>-0.01</td>\n",
       "      <td>0.97</td>\n",
       "      <td>0.16</td>\n",
       "      <td>0.13</td>\n",
       "      <td>0.11</td>\n",
       "      <td>1.00</td>\n",
       "      <td>0.16</td>\n",
       "      <td>0.09</td>\n",
       "      <td>0.15</td>\n",
       "      <td>-0.38</td>\n",
       "    </tr>\n",
       "    <tr>\n",
       "      <th>lifetime</th>\n",
       "      <td>0.01</td>\n",
       "      <td>0.07</td>\n",
       "      <td>0.06</td>\n",
       "      <td>0.07</td>\n",
       "      <td>-0.02</td>\n",
       "      <td>0.17</td>\n",
       "      <td>0.08</td>\n",
       "      <td>0.16</td>\n",
       "      <td>0.08</td>\n",
       "      <td>0.16</td>\n",
       "      <td>1.00</td>\n",
       "      <td>0.11</td>\n",
       "      <td>0.18</td>\n",
       "      <td>-0.44</td>\n",
       "    </tr>\n",
       "    <tr>\n",
       "      <th>avg_visits_total</th>\n",
       "      <td>0.01</td>\n",
       "      <td>0.04</td>\n",
       "      <td>0.02</td>\n",
       "      <td>0.03</td>\n",
       "      <td>0.01</td>\n",
       "      <td>0.10</td>\n",
       "      <td>0.06</td>\n",
       "      <td>0.12</td>\n",
       "      <td>0.04</td>\n",
       "      <td>0.09</td>\n",
       "      <td>0.11</td>\n",
       "      <td>1.00</td>\n",
       "      <td>0.95</td>\n",
       "      <td>-0.25</td>\n",
       "    </tr>\n",
       "    <tr>\n",
       "      <th>avg_visits_current</th>\n",
       "      <td>0.01</td>\n",
       "      <td>0.06</td>\n",
       "      <td>0.05</td>\n",
       "      <td>0.05</td>\n",
       "      <td>0.01</td>\n",
       "      <td>0.16</td>\n",
       "      <td>0.08</td>\n",
       "      <td>0.18</td>\n",
       "      <td>0.08</td>\n",
       "      <td>0.15</td>\n",
       "      <td>0.18</td>\n",
       "      <td>0.95</td>\n",
       "      <td>1.00</td>\n",
       "      <td>-0.41</td>\n",
       "    </tr>\n",
       "    <tr>\n",
       "      <th>churn</th>\n",
       "      <td>0.00</td>\n",
       "      <td>-0.13</td>\n",
       "      <td>-0.16</td>\n",
       "      <td>-0.16</td>\n",
       "      <td>-0.00</td>\n",
       "      <td>-0.39</td>\n",
       "      <td>-0.18</td>\n",
       "      <td>-0.40</td>\n",
       "      <td>-0.20</td>\n",
       "      <td>-0.38</td>\n",
       "      <td>-0.44</td>\n",
       "      <td>-0.25</td>\n",
       "      <td>-0.41</td>\n",
       "      <td>1.00</td>\n",
       "    </tr>\n",
       "  </tbody>\n",
       "</table>\n",
       "</div>"
      ],
      "text/plain": [
       "                    gender  near_location  partner  promo_friends  phone  \\\n",
       "gender                1.00           0.01    -0.01          -0.01  -0.01   \n",
       "near_location         0.01           1.00    -0.01           0.21  -0.02   \n",
       "partner              -0.01          -0.01     1.00           0.45   0.01   \n",
       "promo_friends        -0.01           0.21     0.45           1.00   0.00   \n",
       "phone                -0.01          -0.02     0.01           0.00   1.00   \n",
       "contract_period       0.00           0.15     0.31           0.24  -0.01   \n",
       "group_visits          0.02           0.15     0.02           0.12  -0.01   \n",
       "age                   0.01           0.06     0.05           0.05  -0.01   \n",
       "avg_additional       -0.01           0.04     0.02           0.04   0.01   \n",
       "end_month            -0.00           0.14     0.29           0.24  -0.01   \n",
       "lifetime              0.01           0.07     0.06           0.07  -0.02   \n",
       "avg_visits_total      0.01           0.04     0.02           0.03   0.01   \n",
       "avg_visits_current    0.01           0.06     0.05           0.05   0.01   \n",
       "churn                 0.00          -0.13    -0.16          -0.16  -0.00   \n",
       "\n",
       "                    contract_period  group_visits   age  avg_additional  \\\n",
       "gender                         0.00          0.02  0.01           -0.01   \n",
       "near_location                  0.15          0.15  0.06            0.04   \n",
       "partner                        0.31          0.02  0.05            0.02   \n",
       "promo_friends                  0.24          0.12  0.05            0.04   \n",
       "phone                         -0.01         -0.01 -0.01            0.01   \n",
       "contract_period                1.00          0.17  0.14            0.11   \n",
       "group_visits                   0.17          1.00  0.08            0.03   \n",
       "age                            0.14          0.08  1.00            0.08   \n",
       "avg_additional                 0.11          0.03  0.08            1.00   \n",
       "end_month                      0.97          0.16  0.13            0.11   \n",
       "lifetime                       0.17          0.08  0.16            0.08   \n",
       "avg_visits_total               0.10          0.06  0.12            0.04   \n",
       "avg_visits_current             0.16          0.08  0.18            0.08   \n",
       "churn                         -0.39         -0.18 -0.40           -0.20   \n",
       "\n",
       "                    end_month  lifetime  avg_visits_total  avg_visits_current  \\\n",
       "gender                  -0.00      0.01              0.01                0.01   \n",
       "near_location            0.14      0.07              0.04                0.06   \n",
       "partner                  0.29      0.06              0.02                0.05   \n",
       "promo_friends            0.24      0.07              0.03                0.05   \n",
       "phone                   -0.01     -0.02              0.01                0.01   \n",
       "contract_period          0.97      0.17              0.10                0.16   \n",
       "group_visits             0.16      0.08              0.06                0.08   \n",
       "age                      0.13      0.16              0.12                0.18   \n",
       "avg_additional           0.11      0.08              0.04                0.08   \n",
       "end_month                1.00      0.16              0.09                0.15   \n",
       "lifetime                 0.16      1.00              0.11                0.18   \n",
       "avg_visits_total         0.09      0.11              1.00                0.95   \n",
       "avg_visits_current       0.15      0.18              0.95                1.00   \n",
       "churn                   -0.38     -0.44             -0.25               -0.41   \n",
       "\n",
       "                    churn  \n",
       "gender               0.00  \n",
       "near_location       -0.13  \n",
       "partner             -0.16  \n",
       "promo_friends       -0.16  \n",
       "phone               -0.00  \n",
       "contract_period     -0.39  \n",
       "group_visits        -0.18  \n",
       "age                 -0.40  \n",
       "avg_additional      -0.20  \n",
       "end_month           -0.38  \n",
       "lifetime            -0.44  \n",
       "avg_visits_total    -0.25  \n",
       "avg_visits_current  -0.41  \n",
       "churn                1.00  "
      ]
     },
     "execution_count": 16,
     "metadata": {},
     "output_type": "execute_result"
    }
   ],
   "source": [
    "# correlation matrix\n",
    "\n",
    "data_corr = data.corr()\n",
    "data_corr"
   ]
  },
  {
   "cell_type": "markdown",
   "metadata": {},
   "source": [
    "For a better visual perception of the correlation matrix, a heat map has been created:"
   ]
  },
  {
   "cell_type": "code",
   "execution_count": 17,
   "metadata": {},
   "outputs": [
    {
     "data": {
      "image/png": "[encoded data removed]",
      "text/plain": [
       "<Figure size 936x648 with 2 Axes>"
      ]
     },
     "metadata": {
      "needs_background": "light"
     },
     "output_type": "display_data"
    }
   ],
   "source": [
    "plt.figure(figsize=(13,9))\n",
    "plt.title('Data correlation')\n",
    "sns.heatmap(data_corr, annot = True, fmt='.2f', linewidths=1, linecolor='black')\n",
    "plt.xticks(rotation = 30)\n",
    "plt.show()"
   ]
  },
  {
   "cell_type": "markdown",
   "metadata": {},
   "source": [
    "**Conclusion:**\n",
    "\n",
    "The dataframe contains data of 4000 clients. Missing values, duplicates, and categorical variables are missing.\n",
    "\n",
    "- gender: the average of the column is 0.51, we can conclude that the distribution by gender is approximately the same;\n",
    "- near_location:the majority of clients (84.5%) live or work in the area where the fitness center is located;\n",
    "- partner: approximately half (48.7%) of clients are employees of the club's partner company;\n",
    "- promo_friends: only about 30% of customers came by the \"Bring a friend\" program;\n",
    "- phone: approximately 90% of customers' mobile numbers are known;\n",
    "- contract_period: more than half of the customers (55.2%) purchased a monthly subscription, 24% - for a year and 20.8% - for six months;\n",
    "- group_visits: the majority (58.8%) have never attended group classes;\n",
    "- age: the average age of customers is 29 years;\n",
    "- avg_additional: on average, a visitor spends 136 yandex units for an additional.services center;\n",
    "- end_month: the average period until the end of the contract is 4.3 months;\n",
    "- lifetime: the average time since the first visit to the fitness center is 3.7 months;\n",
    "- avg_visits_total: the average frequency of visits for all time is 1.87 times a week, only a small proportion of customers visit the gym more than 5 times a week;\n",
    "- avg_visits_current: this month, the number of those who have not come to the gym once in a week has increased from 88 to 181;\n",
    "- churn: in the current month, the outflow of customers amounted to 26.5%.\n",
    "\n",
    "\n",
    "Users who have fallen into the outflow, almost all the average values of signs are lower than those who remained a client of the fitness fitness center. They are also united by criteria:\n",
    "- the fitness center is far from home or work;\n",
    "- are not employees of partner companies;\n",
    "- they don't come by recommendation;\n",
    "- do not attend group classes;\n",
    "- purchase short-term subscriptions;\n",
    "- spend less on additional services;\n",
    "- they go to the gym less often;\n",
    "- on average, 3 years younger than the remaining customers.\n",
    "\n",
    "The histograms of the distribution confirm the conclusions:\n",
    "- for the near_location attribute, the data are unevenly distributed. From this it can be assumed that mostly users choose a fitness room closer to home or work. Those for whom the hall is not located within walking distance often leave;\n",
    "- employees of the club's partner companies stay more often than they leave;\n",
    "- those who came on the recommendation of other clients are more likely to fall into the outflow of those.\n",
    "\n",
    "The correlation matrix shows the greatest relationship with the target feature of such features as:\n",
    "- lifetime;\n",
    "- average attendance in the current month;\n",
    "- age.\n",
    "\n",
    "The subscription period and the number of months before the end of the subscription, the average weekly number of visits in general and in the current month also strongly correlate with each other, which is very logical."
   ]
  },
  {
   "cell_type": "markdown",
   "metadata": {},
   "source": [
    "## User churn prediction model"
   ]
  },
  {
   "cell_type": "markdown",
   "metadata": {},
   "source": [
    "To predict the outflow of users, it is necessary to use binary classification. \n",
    "\n",
    "Binary classification is a special case of classification when there are only two classes: \"0\" or \"1\". \n",
    "\n",
    "In this case, the target variable contained in the 'churn' column is a binary value.\n",
    "\n",
    "Models trained by algorithms for binary classification can not only predict the final value of a class for some object or client, but also estimate the probability of the event in question. A popular algorithm for solving such problems is **logistic regression**."
   ]
  },
  {
   "cell_type": "markdown",
   "metadata": {},
   "source": [
    "- The **model** variable will store the model;\n",
    "- A set of **values of features X** and **the target variable y** is passed to the input of the model;\n",
    "- The sample is divided into training and test using the **train_test_split()** method in the ratio of 80/20, observing the general rule: the training sample should be more delayed, but so that the test of metrics on the test remains valid. Added the **random_state** parameter, which is responsible for \"randomness\";\n",
    "- To train the logistic regression model, the **Logistic Regression()** class was used, which also passed the random_state parameter;\n",
    "- To start training, the **fit()** method is called. For training models, we pass a matrix with signs X and a vector with the values of the target variable y to the input;\n",
    "- To make predictions for a data set, the **predict() method is called**"
   ]
  },
  {
   "cell_type": "code",
   "execution_count": 18,
   "metadata": {},
   "outputs": [],
   "source": [
    "# the initial data is divided into features (matrix X) and target variable (y)\n",
    "\n",
    "X = data.drop('churn', axis = 1)\n",
    "y = data['churn']\n",
    "\n",
    "# the model is divided into a training and validation sample\n",
    "\n",
    "X_train, X_test, y_train, y_test = train_test_split(X, y, test_size=0.2, random_state=0, stratify=y)"
   ]
  },
  {
   "cell_type": "code",
   "execution_count": 19,
   "metadata": {},
   "outputs": [],
   "source": [
    "# algorithm for the model\n",
    "\n",
    "model = LogisticRegression(random_state=0)\n",
    "\n",
    "# training model\n",
    "\n",
    "model.fit(X_train, y_train)\n",
    "\n",
    "# making predictions\n",
    "\n",
    "predictions = model.predict(X_test)"
   ]
  },
  {
   "cell_type": "markdown",
   "metadata": {},
   "source": [
    "There will also be an attempt to solve the problem with the help of ensembles. They are powerful and allow you to reflect complex dependencies between data.\n",
    "\n",
    "One of the main types of ensemble models is **random forest**. A decision tree will be used as a model. The choice of trees is not accidental. Unlike, for example, linear models, trees for each individual weak classifier can change not only subsamples of observations and features, but also other parameters. For example, limit the depth of the tree or the minimum number of objects in each node. Therefore, trees get much more models to solve the same problem.\n",
    "\n",
    "The random forest algorithm generates many different trees that are independent of each other in slightly different ways (takes different subsamples, different features), and based on their answers forms the final solution. The random forest algorithm averages the responses of all trees (in the regression problem) or selects by vote (in the classification) the answer that most of the trees in the forest think is correct.\n",
    "\n",
    "- To train the model, the RandomForestClassifier() class was used, which also passed the random_state parameter;\n",
    "- When declaring the model, n_estimators = 100 is set (the number of trees on the basis of which the forest will be built);\n",
    "- Other parameters of the tree, such as the depth of the tree (max_depth), the size of the subsample of features (max_features), the minimum number of objects in the node (min_samples_leaf) - by default."
   ]
  },
  {
   "cell_type": "code",
   "execution_count": 20,
   "metadata": {},
   "outputs": [],
   "source": [
    "# an algorithm for a new model based on the random forest algorithm is given\n",
    "\n",
    "rf_model = RandomForestClassifier(random_state=0, n_estimators = 100)\n",
    "rf_model.fit(X_train, y_train)\n",
    "rf_predictions = rf_model.predict(X_test)"
   ]
  },
  {
   "cell_type": "markdown",
   "metadata": {},
   "source": [
    "Since in the model the final predicted value takes the values 0 or 1, for each object the forecast belongs to one of four groups:\n",
    "\n",
    "1) Model prediction = 1, real value = 1. Such forecasts are called True Positive (TP), \"truly positive\".\n",
    "\n",
    "2) Model prediction = 1, real value = 0. Such forecasts are called False Positive (FP), \"false positive\".\n",
    "\n",
    "3) Model prediction = 0, real value = 1. Such forecasts are called False Negative (FN), \"false negative\".\n",
    "\n",
    "4) Model prediction = 0, real value = 0. Such forecasts are called True Negative (TN), \"truly negative\".\n",
    "\n",
    "For a good model, most of the predictions should fall into the TP and TN groups."
   ]
  },
  {
   "cell_type": "markdown",
   "metadata": {},
   "source": [
    "- **The proportion of correct answers** - the metric **Accuracy** displays the proportion of correctly guessed answers from all predictions. The closer the accuracy value is to 100%, the better;\n",
    "- To evaluate the model without reference to the ratio of classes, calculate metrics:\n",
    "- **Precision** - shows which proportion of predictions about the \"1\" class is correct. In other words, it displays the proportion of correct answers only among the target class;\n",
    "- **Recall** shows how many real objects of class \"1\" could be detected using a model aimed at minimizing the opposite risks"
   ]
  },
  {
   "cell_type": "code",
   "execution_count": 21,
   "metadata": {},
   "outputs": [
    {
     "name": "stdout",
     "output_type": "stream",
     "text": [
      "Metrics for a linear regression model:\n",
      "\tAccuracy: 0.92\n",
      "\tPrecision: 0.87\n",
      "\tRecall: 0.80\n",
      "Metrics for the random forest model:\n",
      "\tAccuracy: 0.92\n",
      "\tPrecision: 0.88\n",
      "\tRecall: 0.83\n"
     ]
    }
   ],
   "source": [
    "# a function that will output metrics\n",
    "\n",
    "def metrics(y_true, y_pred, title='Classification metrics'):\n",
    "    print(title)\n",
    "    print('\\tAccuracy: {:.2f}'.format(accuracy_score(y_true, y_pred)))\n",
    "    print('\\tPrecision: {:.2f}'.format(precision_score(y_true, y_pred)))\n",
    "    print('\\tRecall: {:.2f}'.format(recall_score(y_true, y_pred)))\n",
    "    \n",
    "metrics(y_test, predictions, title='Metrics for a linear regression model:')\n",
    "\n",
    "metrics(y_test, rf_predictions, title='Metrics for the random forest model:')"
   ]
  },
  {
   "cell_type": "markdown",
   "metadata": {},
   "source": [
    "**Conclusion:**\n",
    "\n",
    "The linear regression model shows itself better, because all the metrics studied are slightly, but higher than that of the random forest model"
   ]
  },
  {
   "cell_type": "markdown",
   "metadata": {},
   "source": [
    "## Clustering of users"
   ]
  },
  {
   "cell_type": "markdown",
   "metadata": {},
   "source": [
    "Since the customer base is non-uniform, clustering will help to break it into segments. It will help to identify user segments and, for example, offer each segment a suitable product option.\n",
    "\n",
    "- It is necessary to bring the features to a single scale using **standardization**, which will bring the values of the features to the form of a standard normal distribution: the values will be centered relative to 0, and the average spread of the data will be 1;\n",
    "- - In **X_sc** using the **hit_transform()** method, the transformed feature object table for the training and validation set will get into, which will be used for training and forecasting;\n",
    "- After that, standardization is performed and the resulting standardized table is passed as a parameter of the **linkage()** function. In order for the diagram to be indicative, it is better to pass the 'ward' value to the method parameter"
   ]
  },
  {
   "cell_type": "code",
   "execution_count": 22,
   "metadata": {},
   "outputs": [],
   "source": [
    "# deleting a column with a target variable\n",
    "\n",
    "data_cluster = data.drop('churn', axis = 1)\n",
    "\n",
    "# standardization of data\n",
    "\n",
    "sc = StandardScaler()\n",
    "X_sc = sc.fit_transform(data_cluster)\n",
    "\n",
    "# distance matrix on a standardized feature matrix\n",
    "\n",
    "linked = linkage(X_sc, method = 'ward')"
   ]
  },
  {
   "cell_type": "markdown",
   "metadata": {},
   "source": [
    "A table of \"bundles\" between objects is stored in the linked variable. Visualizing it as a dendrogram:"
   ]
  },
  {
   "cell_type": "code",
   "execution_count": 23,
   "metadata": {},
   "outputs": [
    {
     "data": {
      "image/png": "[encoded data removed]",
      "text/plain": [
       "<Figure size 1080x720 with 1 Axes>"
      ]
     },
     "metadata": {
      "needs_background": "light"
     },
     "output_type": "display_data"
    }
   ],
   "source": [
    "plt.figure(figsize=(15, 10))  \n",
    "dendrogram(linked, orientation='top')\n",
    "plt.show()"
   ]
  },
  {
   "cell_type": "markdown",
   "metadata": {},
   "source": [
    "The proposed optimal number of clusters is 4."
   ]
  },
  {
   "cell_type": "markdown",
   "metadata": {},
   "source": [
    "The complexity of agglomerative clustering lies not in the structure of the algorithm itself, but in the calculations that are performed to build a dendrogram. Calculations of pairwise distances can take a very long time. Therefore, when solving the clustering problem, it is useful to build a dendrogram on a random subsample, and after evaluating the optimal number of clusters, run a faster K-Means algorithm.\n",
    "\n",
    "**K-means** is one of the popular clustering algorithms. The algorithm is based on the assumption that the number of clusters is known in advance. \n",
    "\n",
    "The principle of operation of the step-by-step K-means algorithm:\n",
    "\n",
    "1) There are K clusters. The algorithm selects their centers step by step and assigns objects to the cluster whose center is closer.\n",
    "\n",
    "2) The centers are adjusted (change their position) as long as it allows minimizing the average distance from the objects of each cluster to its center.\n",
    "\n",
    "3) When the distance from the objects to the center ceases to decrease or decreases insignificantly, the algorithm stops and fixes the partition, considering it optimal."
   ]
  },
  {
   "cell_type": "markdown",
   "metadata": {},
   "source": [
    "An algorithm has been applied to the data and a cluster vector has been formed, data standardization has already been performed earlier in the variable X_sc"
   ]
  },
  {
   "cell_type": "code",
   "execution_count": 24,
   "metadata": {},
   "outputs": [],
   "source": [
    "# the number of clusters equal to 5\n",
    "\n",
    "km = KMeans(n_clusters = 5, random_state = 0) \n",
    "\n",
    "# indexes of the proposed group algorithms are stored in the labels variable\n",
    "\n",
    "labels = km.fit_predict(X_sc) "
   ]
  },
  {
   "cell_type": "code",
   "execution_count": 25,
   "metadata": {},
   "outputs": [],
   "source": [
    "# saved cluster labels in the dataframe field\n",
    "\n",
    "data_cluster['cluster'] = labels"
   ]
  },
  {
   "cell_type": "code",
   "execution_count": 26,
   "metadata": {},
   "outputs": [
    {
     "data": {
      "text/html": [
       "<div>\n",
       "<style scoped>\n",
       "    .dataframe tbody tr th:only-of-type {\n",
       "        vertical-align: middle;\n",
       "    }\n",
       "\n",
       "    .dataframe tbody tr th {\n",
       "        vertical-align: top;\n",
       "    }\n",
       "\n",
       "    .dataframe thead th {\n",
       "        text-align: right;\n",
       "    }\n",
       "</style>\n",
       "<table border=\"1\" class=\"dataframe\">\n",
       "  <thead>\n",
       "    <tr style=\"text-align: right;\">\n",
       "      <th>cluster</th>\n",
       "      <th>0</th>\n",
       "      <th>1</th>\n",
       "      <th>2</th>\n",
       "      <th>3</th>\n",
       "      <th>4</th>\n",
       "    </tr>\n",
       "  </thead>\n",
       "  <tbody>\n",
       "    <tr>\n",
       "      <th>gender</th>\n",
       "      <td>0.50</td>\n",
       "      <td>0.52</td>\n",
       "      <td>0.50</td>\n",
       "      <td>0.49</td>\n",
       "      <td>0.56</td>\n",
       "    </tr>\n",
       "    <tr>\n",
       "      <th>near_location</th>\n",
       "      <td>0.96</td>\n",
       "      <td>0.86</td>\n",
       "      <td>0.00</td>\n",
       "      <td>1.00</td>\n",
       "      <td>0.98</td>\n",
       "    </tr>\n",
       "    <tr>\n",
       "      <th>partner</th>\n",
       "      <td>0.78</td>\n",
       "      <td>0.47</td>\n",
       "      <td>0.46</td>\n",
       "      <td>0.35</td>\n",
       "      <td>0.36</td>\n",
       "    </tr>\n",
       "    <tr>\n",
       "      <th>promo_friends</th>\n",
       "      <td>0.57</td>\n",
       "      <td>0.31</td>\n",
       "      <td>0.08</td>\n",
       "      <td>0.24</td>\n",
       "      <td>0.23</td>\n",
       "    </tr>\n",
       "    <tr>\n",
       "      <th>phone</th>\n",
       "      <td>1.00</td>\n",
       "      <td>0.00</td>\n",
       "      <td>1.00</td>\n",
       "      <td>1.00</td>\n",
       "      <td>1.00</td>\n",
       "    </tr>\n",
       "    <tr>\n",
       "      <th>contract_period</th>\n",
       "      <td>10.89</td>\n",
       "      <td>4.79</td>\n",
       "      <td>2.35</td>\n",
       "      <td>1.95</td>\n",
       "      <td>2.67</td>\n",
       "    </tr>\n",
       "    <tr>\n",
       "      <th>group_visits</th>\n",
       "      <td>0.54</td>\n",
       "      <td>0.43</td>\n",
       "      <td>0.22</td>\n",
       "      <td>0.34</td>\n",
       "      <td>0.47</td>\n",
       "    </tr>\n",
       "    <tr>\n",
       "      <th>age</th>\n",
       "      <td>29.98</td>\n",
       "      <td>29.30</td>\n",
       "      <td>28.48</td>\n",
       "      <td>28.17</td>\n",
       "      <td>30.13</td>\n",
       "    </tr>\n",
       "    <tr>\n",
       "      <th>avg_additional</th>\n",
       "      <td>160.76</td>\n",
       "      <td>143.96</td>\n",
       "      <td>135.46</td>\n",
       "      <td>131.62</td>\n",
       "      <td>161.66</td>\n",
       "    </tr>\n",
       "    <tr>\n",
       "      <th>end_month</th>\n",
       "      <td>9.95</td>\n",
       "      <td>4.48</td>\n",
       "      <td>2.20</td>\n",
       "      <td>1.86</td>\n",
       "      <td>2.46</td>\n",
       "    </tr>\n",
       "    <tr>\n",
       "      <th>lifetime</th>\n",
       "      <td>4.74</td>\n",
       "      <td>3.92</td>\n",
       "      <td>2.81</td>\n",
       "      <td>2.44</td>\n",
       "      <td>4.90</td>\n",
       "    </tr>\n",
       "    <tr>\n",
       "      <th>avg_visits_total</th>\n",
       "      <td>1.98</td>\n",
       "      <td>1.85</td>\n",
       "      <td>1.66</td>\n",
       "      <td>1.25</td>\n",
       "      <td>2.85</td>\n",
       "    </tr>\n",
       "    <tr>\n",
       "      <th>avg_visits_current</th>\n",
       "      <td>1.97</td>\n",
       "      <td>1.72</td>\n",
       "      <td>1.48</td>\n",
       "      <td>1.01</td>\n",
       "      <td>2.85</td>\n",
       "    </tr>\n",
       "  </tbody>\n",
       "</table>\n",
       "</div>"
      ],
      "text/plain": [
       "cluster                 0      1      2      3      4\n",
       "gender               0.50   0.52   0.50   0.49   0.56\n",
       "near_location        0.96   0.86   0.00   1.00   0.98\n",
       "partner              0.78   0.47   0.46   0.35   0.36\n",
       "promo_friends        0.57   0.31   0.08   0.24   0.23\n",
       "phone                1.00   0.00   1.00   1.00   1.00\n",
       "contract_period     10.89   4.79   2.35   1.95   2.67\n",
       "group_visits         0.54   0.43   0.22   0.34   0.47\n",
       "age                 29.98  29.30  28.48  28.17  30.13\n",
       "avg_additional     160.76 143.96 135.46 131.62 161.66\n",
       "end_month            9.95   4.48   2.20   1.86   2.46\n",
       "lifetime             4.74   3.92   2.81   2.44   4.90\n",
       "avg_visits_total     1.98   1.85   1.66   1.25   2.85\n",
       "avg_visits_current   1.97   1.72   1.48   1.01   2.85"
      ]
     },
     "execution_count": 26,
     "metadata": {},
     "output_type": "execute_result"
    }
   ],
   "source": [
    "# statistics on the average values of features by cluster\n",
    "\n",
    "data_cluster.groupby(['cluster']).mean().T"
   ]
  },
  {
   "cell_type": "code",
   "execution_count": 27,
   "metadata": {},
   "outputs": [
    {
     "data": {
      "image/png": "[encoded data removed]",
      "text/plain": [
       "<Figure size 1080x720 with 16 Axes>"
      ]
     },
     "metadata": {
      "needs_background": "light"
     },
     "output_type": "display_data"
    },
    {
     "data": {
      "image/png": "[encoded data removed]",
      "text/plain": [
       "<Figure size 1080x720 with 16 Axes>"
      ]
     },
     "metadata": {
      "needs_background": "light"
     },
     "output_type": "display_data"
    },
    {
     "data": {
      "image/png": "[encoded data removed]",
      "text/plain": [
       "<Figure size 1080x720 with 16 Axes>"
      ]
     },
     "metadata": {
      "needs_background": "light"
     },
     "output_type": "display_data"
    },
    {
     "data": {
      "image/png": "[encoded data removed]",
      "text/plain": [
       "<Figure size 1080x720 with 16 Axes>"
      ]
     },
     "metadata": {
      "needs_background": "light"
     },
     "output_type": "display_data"
    },
    {
     "data": {
      "image/png": "[encoded data removed]",
      "text/plain": [
       "<Figure size 1080x720 with 16 Axes>"
      ]
     },
     "metadata": {
      "needs_background": "light"
     },
     "output_type": "display_data"
    }
   ],
   "source": [
    "for value in [0, 1, 2, 3, 4]:\n",
    "    data_cluster[data_cluster['cluster']==value].hist(figsize=(15,10))\n",
    "    plt.suptitle('\\nDistribution of features for a cluster {}'.format(value))\n",
    "    plt.show();"
   ]
  },
  {
   "cell_type": "code",
   "execution_count": 28,
   "metadata": {},
   "outputs": [],
   "source": [
    "# adding cluster values to the source dataset\n",
    "\n",
    "data['cluster'] = labels"
   ]
  },
  {
   "cell_type": "markdown",
   "metadata": {},
   "source": [
    "For each cluster, the total number of clients and the number of clients who have fallen into the outflow are calculated"
   ]
  },
  {
   "cell_type": "code",
   "execution_count": 29,
   "metadata": {},
   "outputs": [
    {
     "data": {
      "text/html": [
       "<div>\n",
       "<style scoped>\n",
       "    .dataframe tbody tr th:only-of-type {\n",
       "        vertical-align: middle;\n",
       "    }\n",
       "\n",
       "    .dataframe tbody tr th {\n",
       "        vertical-align: top;\n",
       "    }\n",
       "\n",
       "    .dataframe thead th {\n",
       "        text-align: right;\n",
       "    }\n",
       "</style>\n",
       "<table border=\"1\" class=\"dataframe\">\n",
       "  <thead>\n",
       "    <tr style=\"text-align: right;\">\n",
       "      <th></th>\n",
       "      <th>cluster</th>\n",
       "      <th>total</th>\n",
       "      <th>churn</th>\n",
       "      <th>churn_rate</th>\n",
       "    </tr>\n",
       "  </thead>\n",
       "  <tbody>\n",
       "    <tr>\n",
       "      <th>3</th>\n",
       "      <td>3</td>\n",
       "      <td>1262</td>\n",
       "      <td>649</td>\n",
       "      <td>0.51</td>\n",
       "    </tr>\n",
       "    <tr>\n",
       "      <th>2</th>\n",
       "      <td>2</td>\n",
       "      <td>505</td>\n",
       "      <td>224</td>\n",
       "      <td>0.44</td>\n",
       "    </tr>\n",
       "    <tr>\n",
       "      <th>1</th>\n",
       "      <td>1</td>\n",
       "      <td>385</td>\n",
       "      <td>103</td>\n",
       "      <td>0.27</td>\n",
       "    </tr>\n",
       "    <tr>\n",
       "      <th>4</th>\n",
       "      <td>4</td>\n",
       "      <td>838</td>\n",
       "      <td>57</td>\n",
       "      <td>0.07</td>\n",
       "    </tr>\n",
       "    <tr>\n",
       "      <th>0</th>\n",
       "      <td>0</td>\n",
       "      <td>1010</td>\n",
       "      <td>28</td>\n",
       "      <td>0.03</td>\n",
       "    </tr>\n",
       "  </tbody>\n",
       "</table>\n",
       "</div>"
      ],
      "text/plain": [
       "   cluster  total  churn  churn_rate\n",
       "3        3   1262    649        0.51\n",
       "2        2    505    224        0.44\n",
       "1        1    385    103        0.27\n",
       "4        4    838     57        0.07\n",
       "0        0   1010     28        0.03"
      ]
     },
     "execution_count": 29,
     "metadata": {},
     "output_type": "execute_result"
    }
   ],
   "source": [
    "# the outflow coefficient is calculated\n",
    "\n",
    "clusters = data.groupby('cluster', as_index=False).agg({'churn':['count', 'sum']})\n",
    "clusters.columns = [' '.join(col).strip() for col in clusters.columns.values]\n",
    "clusters.rename(columns={'churn count':'total', 'churn sum':'churn'}, inplace=True)\n",
    "clusters['churn_rate'] = round(clusters['churn'] / clusters['total'], 2)\n",
    "clusters.sort_values(by='churn_rate', ascending=False)"
   ]
  },
  {
   "cell_type": "markdown",
   "metadata": {},
   "source": [
    "**Conclusion:**\n",
    "\n",
    "- Cluster 2 clients do not live or work close to the fitness center;\n",
    "- In each cluster, at least a third of customers are employees of the club's partner company;\n",
    "- The smallest share of customers who came through the \"Bring a friend\" promo campaign is in cluster 2;\n",
    "- Fitness center clients from the first cluster did not provide a contact phone number;\n",
    "- The highest average duration of the current subscription and the amount of expenses for additional services of the club for users from cluster 1;\n",
    "- From 22% to 54% of clients in all clusters attend group classes, the least of such users in cluster 2;\n",
    "- The time from the moment of the first visit to the fitness center is on average from 2.5 to almost 5 months;\n",
    "- The average frequency of visits per week since the beginning of the subscription and for all time is almost the same in all clusters except 2 and 3: in them it decreased from 1.66 to 1.48 and from 1.25 to 1.01, respectively.\n",
    "\n",
    "Cluster 3 and 2 clients are the most prone to outflow (51% and 44%, respectively), cluster 0 and 4 clients are the most loyal. \n",
    "\n",
    "It should be noted that clusters 0 and 3 have the largest number of clients."
   ]
  },
  {
   "cell_type": "markdown",
   "metadata": {},
   "source": [
    "## General conclusion"
   ]
  },
  {
   "cell_type": "markdown",
   "metadata": {},
   "source": [
    "In the course of this research, information about 4000 fitness center clients was studied, models for predicting user outflow were built and a clustering model was implemented.\n",
    "\n",
    "As a result of the research, the following patterns were revealed for users who ceased to be customers of the fitness center in the current month:\n",
    "\n",
    "- they live or work far from the fitness center, i.e. the walking accessibility of the gym is important for customers, they do not want to waste extra time on the road;\n",
    "- they are not employees of partner companies, in other words, there is no discount for them on a subscription from the employer;\n",
    "- they do not come on the recommendation of friends who have become clients of the fitness center;\n",
    "- rarely attend group classes;\n",
    "- most often they purchase short-term season tickets, perhaps they want to understand whether they are ready to visit this club;\n",
    "- spend less on other fitness center services, such as cafes, sports goods, beauty or massage parlors;\n",
    "- they go to the gym less often;\n",
    "- the average age is 3 years less than the remaining users.\n",
    "\n",
    "When predicting the outflow of customers next month, the logistic regression model performed best - the values of the accuracy, precision and recall metrics were higher than those calculated using the random forest model. It can be concluded that the model is reliable, i.e. the values of the metrics are quite high.\n",
    "\n",
    "Clustering was also performed, as a result of which it was revealed that customers of cluster 3 and 2 are most prone to outflow (51% and 44%, respectively), customers of cluster 0 and 4 are the most loyal.\n",
    "\n",
    "**Recommendations:**\n",
    "\n",
    "The average subscription period for cluster 3 clients is 1 month, i.e. probably such clients should not be considered as potentially permanent. Such a subscription period may indicate that a person wants to try to start playing sports in general, they rarely go to the gym, it is likely that their outflow is associated with a lack of motivation. For clients from this cluster, you can offer a discount on additional fitness center services to expand their understanding of the services provided at the club. It can also be effective to offer a subscription extension on more favorable terms, the \"regular customer\" program, when when buying subscriptions without a break, the client is offered a good discount\n",
    "\n",
    "More loyal customers live or work closer to the fitness center, so an advertising campaign aimed at residents of nearby houses or the conclusion of favorable contracts with employers located within walking distance can bring a lot of new customers for whom minimal outflow is expected.\n",
    "\n",
    "It is worth paying attention to informing the current, as well as potential clients of the fitness center about the availability of group classes, to focus on the fact that it will be more effective for beginners, because classes will be held under the supervision of a coach. In extreme cases, you can revise the format, time, or pay attention to the pre-sponsors of group classes, because their attendance is not large enough."
   ]
  },
  {
   "cell_type": "code",
   "execution_count": null,
   "metadata": {},
   "outputs": [],
   "source": []
  }
 ],
 "metadata": {
  "ExecuteTimeLog": [
   {
    "duration": 658,
    "start_time": "2021-12-06T13:15:15.320Z"
   },
   {
    "duration": 29,
    "start_time": "2021-12-06T13:15:40.251Z"
   },
   {
    "duration": 23,
    "start_time": "2021-12-06T13:15:44.900Z"
   },
   {
    "duration": 3,
    "start_time": "2021-12-06T13:16:25.139Z"
   },
   {
    "duration": 15,
    "start_time": "2021-12-06T13:16:30.570Z"
   },
   {
    "duration": 429,
    "start_time": "2021-12-06T13:17:36.281Z"
   },
   {
    "duration": 3,
    "start_time": "2021-12-06T13:18:28.870Z"
   },
   {
    "duration": 15,
    "start_time": "2021-12-06T13:18:35.098Z"
   },
   {
    "duration": 11,
    "start_time": "2021-12-06T14:46:59.750Z"
   },
   {
    "duration": 20,
    "start_time": "2021-12-06T14:59:16.280Z"
   },
   {
    "duration": 3,
    "start_time": "2021-12-06T14:59:16.900Z"
   },
   {
    "duration": 10,
    "start_time": "2021-12-06T14:59:17.600Z"
   },
   {
    "duration": 7,
    "start_time": "2021-12-06T15:00:03.651Z"
   },
   {
    "duration": 5,
    "start_time": "2021-12-06T15:12:33.074Z"
   },
   {
    "duration": 4,
    "start_time": "2021-12-06T15:13:47.757Z"
   },
   {
    "duration": 4,
    "start_time": "2021-12-06T15:13:48.492Z"
   },
   {
    "duration": 17,
    "start_time": "2021-12-06T15:13:49.529Z"
   },
   {
    "duration": 10,
    "start_time": "2021-12-06T15:14:49.560Z"
   },
   {
    "duration": 9,
    "start_time": "2021-12-06T15:15:23.304Z"
   },
   {
    "duration": 8,
    "start_time": "2021-12-06T15:16:18.985Z"
   },
   {
    "duration": 7266,
    "start_time": "2021-12-06T15:17:06.848Z"
   },
   {
    "duration": 420,
    "start_time": "2021-12-06T15:17:27.133Z"
   },
   {
    "duration": 131810,
    "start_time": "2021-12-06T15:15:15.745Z"
   },
   {
    "duration": 131747,
    "start_time": "2021-12-06T15:15:15.809Z"
   },
   {
    "duration": 131747,
    "start_time": "2021-12-06T15:15:15.810Z"
   },
   {
    "duration": 131747,
    "start_time": "2021-12-06T15:15:15.811Z"
   },
   {
    "duration": 131747,
    "start_time": "2021-12-06T15:15:15.812Z"
   },
   {
    "duration": 131747,
    "start_time": "2021-12-06T15:15:15.813Z"
   },
   {
    "duration": 131747,
    "start_time": "2021-12-06T15:15:15.814Z"
   },
   {
    "duration": 131747,
    "start_time": "2021-12-06T15:15:15.815Z"
   },
   {
    "duration": 584,
    "start_time": "2021-12-06T15:17:47.461Z"
   },
   {
    "duration": 24,
    "start_time": "2021-12-06T15:17:49.792Z"
   },
   {
    "duration": 2,
    "start_time": "2021-12-06T15:17:50.601Z"
   },
   {
    "duration": 17,
    "start_time": "2021-12-06T15:17:51.241Z"
   },
   {
    "duration": 7,
    "start_time": "2021-12-06T15:17:52.311Z"
   },
   {
    "duration": 4,
    "start_time": "2021-12-06T15:17:54.531Z"
   },
   {
    "duration": 4,
    "start_time": "2021-12-06T15:17:55.333Z"
   },
   {
    "duration": 292,
    "start_time": "2021-12-06T15:17:56.031Z"
   },
   {
    "duration": 4,
    "start_time": "2021-12-06T15:19:58.340Z"
   },
   {
    "duration": 10,
    "start_time": "2021-12-06T15:20:00.853Z"
   },
   {
    "duration": 538,
    "start_time": "2021-12-06T15:21:15.798Z"
   },
   {
    "duration": 23,
    "start_time": "2021-12-06T15:21:16.338Z"
   },
   {
    "duration": 8,
    "start_time": "2021-12-06T15:21:16.363Z"
   },
   {
    "duration": 26,
    "start_time": "2021-12-06T15:21:16.373Z"
   },
   {
    "duration": 26,
    "start_time": "2021-12-06T15:21:16.400Z"
   },
   {
    "duration": 11,
    "start_time": "2021-12-06T15:21:16.428Z"
   },
   {
    "duration": 20,
    "start_time": "2021-12-06T15:21:16.441Z"
   },
   {
    "duration": 18,
    "start_time": "2021-12-06T15:21:16.462Z"
   },
   {
    "duration": 5,
    "start_time": "2021-12-06T15:21:16.482Z"
   },
   {
    "duration": 14,
    "start_time": "2021-12-06T15:21:16.489Z"
   },
   {
    "duration": 13,
    "start_time": "2021-12-06T15:21:16.505Z"
   },
   {
    "duration": 41,
    "start_time": "2021-12-06T15:21:59.519Z"
   },
   {
    "duration": 14,
    "start_time": "2021-12-06T15:23:19.571Z"
   },
   {
    "duration": 26,
    "start_time": "2021-12-06T15:24:17.106Z"
   },
   {
    "duration": 396,
    "start_time": "2021-12-06T17:41:23.010Z"
   },
   {
    "duration": 376,
    "start_time": "2021-12-06T17:42:59.440Z"
   },
   {
    "duration": 7,
    "start_time": "2021-12-06T17:43:32.548Z"
   },
   {
    "duration": 12,
    "start_time": "2021-12-06T17:43:39.780Z"
   },
   {
    "duration": 1009,
    "start_time": "2021-12-06T17:44:05.129Z"
   },
   {
    "duration": 872,
    "start_time": "2021-12-06T17:44:14.262Z"
   },
   {
    "duration": 242,
    "start_time": "2021-12-06T17:44:22.061Z"
   },
   {
    "duration": 12,
    "start_time": "2021-12-06T17:44:39.051Z"
   },
   {
    "duration": 12,
    "start_time": "2021-12-06T17:45:07.931Z"
   },
   {
    "duration": 500,
    "start_time": "2021-12-06T17:52:17.121Z"
   },
   {
    "duration": 537,
    "start_time": "2021-12-06T17:52:24.863Z"
   },
   {
    "duration": 3,
    "start_time": "2021-12-06T17:52:39.880Z"
   },
   {
    "duration": 4023,
    "start_time": "2021-12-06T17:52:45.336Z"
   },
   {
    "duration": 26,
    "start_time": "2021-12-06T17:54:01.961Z"
   },
   {
    "duration": 474,
    "start_time": "2021-12-07T13:37:32.164Z"
   },
   {
    "duration": 1560,
    "start_time": "2021-12-07T13:37:39.014Z"
   },
   {
    "duration": 25,
    "start_time": "2021-12-07T13:37:40.577Z"
   },
   {
    "duration": 3,
    "start_time": "2021-12-07T13:37:40.605Z"
   },
   {
    "duration": 21,
    "start_time": "2021-12-07T13:37:40.611Z"
   },
   {
    "duration": 39,
    "start_time": "2021-12-07T13:37:40.635Z"
   },
   {
    "duration": 6,
    "start_time": "2021-12-07T13:37:40.677Z"
   },
   {
    "duration": 6,
    "start_time": "2021-12-07T13:37:40.686Z"
   },
   {
    "duration": 6,
    "start_time": "2021-12-07T13:37:40.698Z"
   },
   {
    "duration": 17,
    "start_time": "2021-12-07T13:37:40.708Z"
   },
   {
    "duration": 51,
    "start_time": "2021-12-07T13:37:40.727Z"
   },
   {
    "duration": 44,
    "start_time": "2021-12-07T13:37:40.781Z"
   },
   {
    "duration": 48,
    "start_time": "2021-12-07T13:37:40.828Z"
   },
   {
    "duration": 935,
    "start_time": "2021-12-07T13:37:40.878Z"
   },
   {
    "duration": 5589,
    "start_time": "2021-12-07T13:46:14.778Z"
   },
   {
    "duration": 68,
    "start_time": "2021-12-07T13:48:15.108Z"
   },
   {
    "duration": 5,
    "start_time": "2021-12-07T13:51:48.068Z"
   },
   {
    "duration": 300,
    "start_time": "2021-12-07T13:52:16.889Z"
   },
   {
    "duration": 436,
    "start_time": "2021-12-07T13:52:28.149Z"
   },
   {
    "duration": 668,
    "start_time": "2021-12-07T13:54:57.608Z"
   },
   {
    "duration": 5425,
    "start_time": "2021-12-07T13:55:11.778Z"
   },
   {
    "duration": 5949,
    "start_time": "2021-12-07T13:55:53.418Z"
   },
   {
    "duration": 620,
    "start_time": "2021-12-07T13:57:38.598Z"
   },
   {
    "duration": 5327,
    "start_time": "2021-12-07T13:58:28.436Z"
   },
   {
    "duration": 134,
    "start_time": "2021-12-07T14:07:22.867Z"
   },
   {
    "duration": 111,
    "start_time": "2021-12-07T14:10:11.096Z"
   },
   {
    "duration": 96,
    "start_time": "2021-12-07T14:10:50.625Z"
   },
   {
    "duration": 756,
    "start_time": "2021-12-07T14:11:51.240Z"
   },
   {
    "duration": 94,
    "start_time": "2021-12-07T14:13:09.095Z"
   },
   {
    "duration": 286,
    "start_time": "2021-12-07T14:13:27.015Z"
   },
   {
    "duration": 102,
    "start_time": "2021-12-07T14:13:33.415Z"
   },
   {
    "duration": 8,
    "start_time": "2021-12-07T14:14:08.303Z"
   },
   {
    "duration": 88,
    "start_time": "2021-12-07T14:14:40.696Z"
   },
   {
    "duration": 5477,
    "start_time": "2021-12-07T14:14:45.406Z"
   },
   {
    "duration": 5801,
    "start_time": "2021-12-07T14:16:35.634Z"
   },
   {
    "duration": 723,
    "start_time": "2021-12-07T14:19:16.985Z"
   },
   {
    "duration": 605,
    "start_time": "2021-12-07T14:19:27.405Z"
   },
   {
    "duration": 5525,
    "start_time": "2021-12-07T14:22:40.864Z"
   },
   {
    "duration": 783,
    "start_time": "2021-12-07T14:22:56.644Z"
   },
   {
    "duration": 8086,
    "start_time": "2021-12-07T14:23:11.655Z"
   },
   {
    "duration": 7213,
    "start_time": "2021-12-07T14:23:43.784Z"
   },
   {
    "duration": 1072,
    "start_time": "2021-12-08T08:42:30.995Z"
   },
   {
    "duration": 22,
    "start_time": "2021-12-08T08:42:32.069Z"
   },
   {
    "duration": 10,
    "start_time": "2021-12-08T08:42:32.092Z"
   },
   {
    "duration": 24,
    "start_time": "2021-12-08T08:42:32.104Z"
   },
   {
    "duration": 7,
    "start_time": "2021-12-08T08:42:32.130Z"
   },
   {
    "duration": 3,
    "start_time": "2021-12-08T08:42:32.139Z"
   },
   {
    "duration": 8,
    "start_time": "2021-12-08T08:42:32.143Z"
   },
   {
    "duration": 6,
    "start_time": "2021-12-08T08:42:32.153Z"
   },
   {
    "duration": 10,
    "start_time": "2021-12-08T08:42:32.161Z"
   },
   {
    "duration": 7,
    "start_time": "2021-12-08T08:42:32.173Z"
   },
   {
    "duration": 34,
    "start_time": "2021-12-08T08:42:32.181Z"
   },
   {
    "duration": 10,
    "start_time": "2021-12-08T08:42:32.216Z"
   },
   {
    "duration": 5,
    "start_time": "2021-12-08T08:42:32.227Z"
   },
   {
    "duration": 2745,
    "start_time": "2021-12-08T08:42:32.234Z"
   },
   {
    "duration": 75576,
    "start_time": "2021-12-08T08:42:34.980Z"
   },
   {
    "duration": 3,
    "start_time": "2021-12-08T08:43:50.557Z"
   },
   {
    "duration": 331,
    "start_time": "2021-12-08T08:47:35.923Z"
   },
   {
    "duration": 281,
    "start_time": "2021-12-08T08:47:42.533Z"
   },
   {
    "duration": 2673,
    "start_time": "2021-12-08T08:49:28.963Z"
   },
   {
    "duration": 3937,
    "start_time": "2021-12-08T08:51:23.123Z"
   },
   {
    "duration": 3851,
    "start_time": "2021-12-08T08:52:40.992Z"
   },
   {
    "duration": 3545,
    "start_time": "2021-12-08T08:52:46.053Z"
   },
   {
    "duration": 5917,
    "start_time": "2021-12-08T08:53:21.682Z"
   },
   {
    "duration": 4160,
    "start_time": "2021-12-08T08:53:41.523Z"
   },
   {
    "duration": 4588,
    "start_time": "2021-12-08T08:53:50.308Z"
   },
   {
    "duration": 3870,
    "start_time": "2021-12-08T08:53:57.962Z"
   },
   {
    "duration": 4297,
    "start_time": "2021-12-08T08:54:05.752Z"
   },
   {
    "duration": 4308,
    "start_time": "2021-12-08T08:55:09.133Z"
   },
   {
    "duration": 4390,
    "start_time": "2021-12-08T08:55:57.842Z"
   },
   {
    "duration": 4,
    "start_time": "2021-12-08T08:56:20.153Z"
   },
   {
    "duration": 4239,
    "start_time": "2021-12-08T08:56:26.772Z"
   },
   {
    "duration": 392,
    "start_time": "2021-12-08T08:58:12.683Z"
   },
   {
    "duration": 4250,
    "start_time": "2021-12-08T08:58:47.297Z"
   },
   {
    "duration": 485,
    "start_time": "2021-12-08T08:59:08.983Z"
   },
   {
    "duration": 4250,
    "start_time": "2021-12-08T08:59:14.251Z"
   },
   {
    "duration": 4076,
    "start_time": "2021-12-08T08:59:42.291Z"
   },
   {
    "duration": 4336,
    "start_time": "2021-12-08T09:00:11.644Z"
   },
   {
    "duration": 4401,
    "start_time": "2021-12-08T09:00:39.813Z"
   },
   {
    "duration": 4322,
    "start_time": "2021-12-08T09:01:06.792Z"
   },
   {
    "duration": 4279,
    "start_time": "2021-12-08T09:01:29.473Z"
   },
   {
    "duration": 5188,
    "start_time": "2021-12-08T09:01:47.044Z"
   },
   {
    "duration": 4282,
    "start_time": "2021-12-08T09:02:08.743Z"
   },
   {
    "duration": 4202,
    "start_time": "2021-12-08T09:02:16.305Z"
   },
   {
    "duration": 13,
    "start_time": "2021-12-08T09:06:10.733Z"
   },
   {
    "duration": 924,
    "start_time": "2021-12-08T09:06:33.573Z"
   },
   {
    "duration": 1175,
    "start_time": "2021-12-08T09:07:39.053Z"
   },
   {
    "duration": 888,
    "start_time": "2021-12-08T09:07:49.233Z"
   },
   {
    "duration": 905,
    "start_time": "2021-12-08T09:08:04.233Z"
   },
   {
    "duration": 1146,
    "start_time": "2021-12-08T09:08:37.399Z"
   },
   {
    "duration": 1155,
    "start_time": "2021-12-08T09:09:04.362Z"
   },
   {
    "duration": 1037,
    "start_time": "2021-12-08T09:09:15.573Z"
   },
   {
    "duration": 890,
    "start_time": "2021-12-08T09:10:29.743Z"
   },
   {
    "duration": 1045,
    "start_time": "2021-12-08T09:11:31.650Z"
   },
   {
    "duration": 906,
    "start_time": "2021-12-08T09:11:47.554Z"
   },
   {
    "duration": 1328,
    "start_time": "2021-12-08T09:11:59.972Z"
   },
   {
    "duration": 979,
    "start_time": "2021-12-08T09:12:09.383Z"
   },
   {
    "duration": 1036,
    "start_time": "2021-12-08T09:13:01.954Z"
   },
   {
    "duration": 994,
    "start_time": "2021-12-08T09:13:14.083Z"
   },
   {
    "duration": 1011,
    "start_time": "2021-12-08T09:15:17.773Z"
   },
   {
    "duration": 38,
    "start_time": "2021-12-08T09:23:27.112Z"
   },
   {
    "duration": 3,
    "start_time": "2021-12-08T09:26:15.502Z"
   },
   {
    "duration": 6,
    "start_time": "2021-12-08T09:27:53.753Z"
   },
   {
    "duration": 4,
    "start_time": "2021-12-08T09:28:42.712Z"
   },
   {
    "duration": 82,
    "start_time": "2021-12-08T09:43:04.914Z"
   },
   {
    "duration": 80,
    "start_time": "2021-12-08T09:43:41.833Z"
   },
   {
    "duration": 8,
    "start_time": "2021-12-08T09:43:47.482Z"
   },
   {
    "duration": 280,
    "start_time": "2021-12-08T09:45:05.563Z"
   },
   {
    "duration": 3,
    "start_time": "2021-12-08T09:45:31.803Z"
   },
   {
    "duration": 4,
    "start_time": "2021-12-08T09:45:35.253Z"
   },
   {
    "duration": 27,
    "start_time": "2021-12-08T09:46:40.992Z"
   },
   {
    "duration": 4,
    "start_time": "2021-12-08T09:48:15.753Z"
   },
   {
    "duration": 28,
    "start_time": "2021-12-08T10:05:53.083Z"
   },
   {
    "duration": 5,
    "start_time": "2021-12-08T10:05:56.602Z"
   },
   {
    "duration": 24,
    "start_time": "2021-12-08T10:07:13.253Z"
   },
   {
    "duration": 20,
    "start_time": "2021-12-08T10:14:45.634Z"
   },
   {
    "duration": 672,
    "start_time": "2021-12-08T10:15:29.374Z"
   },
   {
    "duration": 629,
    "start_time": "2021-12-08T10:15:57.413Z"
   },
   {
    "duration": 397,
    "start_time": "2021-12-08T10:22:57.723Z"
   },
   {
    "duration": 3,
    "start_time": "2021-12-08T10:23:19.032Z"
   },
   {
    "duration": 454,
    "start_time": "2021-12-08T10:23:22.573Z"
   },
   {
    "duration": 7,
    "start_time": "2021-12-08T10:25:31.973Z"
   },
   {
    "duration": 378,
    "start_time": "2021-12-08T10:25:55.763Z"
   },
   {
    "duration": 642,
    "start_time": "2021-12-08T10:26:30.502Z"
   },
   {
    "duration": 709,
    "start_time": "2021-12-08T10:26:32.373Z"
   },
   {
    "duration": 76,
    "start_time": "2021-12-08T10:26:41.522Z"
   },
   {
    "duration": 397,
    "start_time": "2021-12-08T10:26:42.794Z"
   },
   {
    "duration": 4,
    "start_time": "2021-12-08T10:27:33.273Z"
   },
   {
    "duration": 35,
    "start_time": "2021-12-08T10:27:40.694Z"
   },
   {
    "duration": 11,
    "start_time": "2021-12-08T10:27:42.696Z"
   },
   {
    "duration": 292,
    "start_time": "2021-12-08T10:30:27.714Z"
   },
   {
    "duration": 11,
    "start_time": "2021-12-08T10:30:28.413Z"
   },
   {
    "duration": 12,
    "start_time": "2021-12-08T10:38:26.283Z"
   },
   {
    "duration": 243,
    "start_time": "2021-12-08T11:28:29.232Z"
   },
   {
    "duration": 453,
    "start_time": "2021-12-08T11:29:45.492Z"
   },
   {
    "duration": 1098,
    "start_time": "2021-12-08T11:32:58.019Z"
   },
   {
    "duration": 22,
    "start_time": "2021-12-08T11:32:59.118Z"
   },
   {
    "duration": 2,
    "start_time": "2021-12-08T11:32:59.143Z"
   },
   {
    "duration": 12,
    "start_time": "2021-12-08T11:32:59.148Z"
   },
   {
    "duration": 3,
    "start_time": "2021-12-08T11:32:59.162Z"
   },
   {
    "duration": 20,
    "start_time": "2021-12-08T11:32:59.167Z"
   },
   {
    "duration": 4,
    "start_time": "2021-12-08T11:32:59.189Z"
   },
   {
    "duration": 4,
    "start_time": "2021-12-08T11:32:59.194Z"
   },
   {
    "duration": 4,
    "start_time": "2021-12-08T11:32:59.201Z"
   },
   {
    "duration": 12,
    "start_time": "2021-12-08T11:32:59.207Z"
   },
   {
    "duration": 8,
    "start_time": "2021-12-08T11:32:59.221Z"
   },
   {
    "duration": 59,
    "start_time": "2021-12-08T11:32:59.231Z"
   },
   {
    "duration": 9,
    "start_time": "2021-12-08T11:32:59.291Z"
   },
   {
    "duration": 4,
    "start_time": "2021-12-08T11:32:59.302Z"
   },
   {
    "duration": 4368,
    "start_time": "2021-12-08T11:32:59.308Z"
   },
   {
    "duration": 20,
    "start_time": "2021-12-08T11:33:03.677Z"
   },
   {
    "duration": 1157,
    "start_time": "2021-12-08T11:33:03.699Z"
   },
   {
    "duration": 6,
    "start_time": "2021-12-08T11:33:04.857Z"
   },
   {
    "duration": 43,
    "start_time": "2021-12-08T11:33:04.864Z"
   },
   {
    "duration": 388,
    "start_time": "2021-12-08T11:33:04.987Z"
   },
   {
    "duration": 371,
    "start_time": "2021-12-08T11:33:05.376Z"
   },
   {
    "duration": 132841,
    "start_time": "2021-12-08T11:30:52.907Z"
   },
   {
    "duration": 234,
    "start_time": "2021-12-08T11:33:17.532Z"
   },
   {
    "duration": 255,
    "start_time": "2021-12-08T11:33:34.303Z"
   },
   {
    "duration": 243,
    "start_time": "2021-12-08T11:35:34.623Z"
   },
   {
    "duration": 12,
    "start_time": "2021-12-08T11:35:40.274Z"
   },
   {
    "duration": 357,
    "start_time": "2021-12-08T12:42:45.604Z"
   },
   {
    "duration": 4,
    "start_time": "2021-12-08T12:42:57.268Z"
   },
   {
    "duration": 231,
    "start_time": "2021-12-08T12:42:59.683Z"
   },
   {
    "duration": 78,
    "start_time": "2021-12-08T12:43:35.193Z"
   },
   {
    "duration": 82,
    "start_time": "2021-12-08T12:43:42.526Z"
   },
   {
    "duration": 502,
    "start_time": "2021-12-08T12:43:45.763Z"
   },
   {
    "duration": 76213,
    "start_time": "2021-12-08T12:43:59.253Z"
   },
   {
    "duration": 946,
    "start_time": "2021-12-08T12:45:39.443Z"
   },
   {
    "duration": 1323,
    "start_time": "2021-12-08T12:55:58.588Z"
   },
   {
    "duration": 25,
    "start_time": "2021-12-08T12:55:59.913Z"
   },
   {
    "duration": 2,
    "start_time": "2021-12-08T12:55:59.940Z"
   },
   {
    "duration": 18,
    "start_time": "2021-12-08T12:55:59.944Z"
   },
   {
    "duration": 4,
    "start_time": "2021-12-08T12:55:59.964Z"
   },
   {
    "duration": 8,
    "start_time": "2021-12-08T12:55:59.969Z"
   },
   {
    "duration": 3,
    "start_time": "2021-12-08T12:55:59.979Z"
   },
   {
    "duration": 6,
    "start_time": "2021-12-08T12:55:59.988Z"
   },
   {
    "duration": 5,
    "start_time": "2021-12-08T12:55:59.996Z"
   },
   {
    "duration": 13,
    "start_time": "2021-12-08T12:56:00.003Z"
   },
   {
    "duration": 16,
    "start_time": "2021-12-08T12:56:00.018Z"
   },
   {
    "duration": 39,
    "start_time": "2021-12-08T12:56:00.035Z"
   },
   {
    "duration": 19,
    "start_time": "2021-12-08T12:56:00.076Z"
   },
   {
    "duration": 5,
    "start_time": "2021-12-08T12:56:00.096Z"
   },
   {
    "duration": 4643,
    "start_time": "2021-12-08T12:56:00.103Z"
   },
   {
    "duration": 13,
    "start_time": "2021-12-08T12:56:04.748Z"
   },
   {
    "duration": 1435,
    "start_time": "2021-12-08T12:56:04.762Z"
   },
   {
    "duration": 8,
    "start_time": "2021-12-08T12:56:06.198Z"
   },
   {
    "duration": 94,
    "start_time": "2021-12-08T12:56:06.208Z"
   },
   {
    "duration": 329,
    "start_time": "2021-12-08T12:56:06.392Z"
   },
   {
    "duration": 15,
    "start_time": "2021-12-08T12:56:06.725Z"
   },
   {
    "duration": 520,
    "start_time": "2021-12-08T12:56:06.742Z"
   },
   {
    "duration": 82942,
    "start_time": "2021-12-08T12:56:07.263Z"
   },
   {
    "duration": 1581,
    "start_time": "2021-12-08T12:57:30.207Z"
   },
   {
    "duration": 3,
    "start_time": "2021-12-08T12:57:31.790Z"
   },
   {
    "duration": 11,
    "start_time": "2021-12-08T12:57:40.894Z"
   },
   {
    "duration": 1196,
    "start_time": "2021-12-08T16:02:08.853Z"
   },
   {
    "duration": 21,
    "start_time": "2021-12-08T16:02:10.051Z"
   },
   {
    "duration": 3,
    "start_time": "2021-12-08T16:02:10.074Z"
   },
   {
    "duration": 32,
    "start_time": "2021-12-08T16:02:10.078Z"
   },
   {
    "duration": 4,
    "start_time": "2021-12-08T16:02:10.111Z"
   },
   {
    "duration": 22,
    "start_time": "2021-12-08T16:02:10.116Z"
   },
   {
    "duration": 12,
    "start_time": "2021-12-08T16:02:10.139Z"
   },
   {
    "duration": 14,
    "start_time": "2021-12-08T16:02:10.153Z"
   },
   {
    "duration": 15,
    "start_time": "2021-12-08T16:02:10.170Z"
   },
   {
    "duration": 17,
    "start_time": "2021-12-08T16:02:10.187Z"
   },
   {
    "duration": 12,
    "start_time": "2021-12-08T16:02:10.206Z"
   },
   {
    "duration": 50,
    "start_time": "2021-12-08T16:02:10.219Z"
   },
   {
    "duration": 10,
    "start_time": "2021-12-08T16:02:10.271Z"
   },
   {
    "duration": 9,
    "start_time": "2021-12-08T16:02:10.282Z"
   },
   {
    "duration": 4251,
    "start_time": "2021-12-08T16:02:10.292Z"
   },
   {
    "duration": 13,
    "start_time": "2021-12-08T16:02:14.545Z"
   },
   {
    "duration": 1001,
    "start_time": "2021-12-08T16:02:14.560Z"
   },
   {
    "duration": 7,
    "start_time": "2021-12-08T16:02:15.563Z"
   },
   {
    "duration": 43,
    "start_time": "2021-12-08T16:02:15.571Z"
   },
   {
    "duration": 391,
    "start_time": "2021-12-08T16:02:15.689Z"
   },
   {
    "duration": 16,
    "start_time": "2021-12-08T16:02:16.081Z"
   },
   {
    "duration": 505,
    "start_time": "2021-12-08T16:02:16.099Z"
   },
   {
    "duration": 79336,
    "start_time": "2021-12-08T16:02:16.606Z"
   },
   {
    "duration": 1351,
    "start_time": "2021-12-08T16:03:35.943Z"
   },
   {
    "duration": 92,
    "start_time": "2021-12-08T16:03:37.296Z"
   },
   {
    "duration": 26,
    "start_time": "2021-12-08T16:03:37.390Z"
   },
   {
    "duration": 11,
    "start_time": "2021-12-08T17:06:59.946Z"
   },
   {
    "duration": 265,
    "start_time": "2021-12-08T17:09:51.913Z"
   },
   {
    "duration": 16,
    "start_time": "2021-12-08T17:19:21.892Z"
   },
   {
    "duration": 443,
    "start_time": "2021-12-08T17:24:24.778Z"
   },
   {
    "duration": 9,
    "start_time": "2021-12-08T17:24:47.281Z"
   },
   {
    "duration": 3271,
    "start_time": "2021-12-08T17:24:51.899Z"
   },
   {
    "duration": 415,
    "start_time": "2021-12-08T17:25:26.763Z"
   },
   {
    "duration": 12,
    "start_time": "2021-12-08T17:28:56.181Z"
   },
   {
    "duration": 242,
    "start_time": "2021-12-08T17:32:07.014Z"
   },
   {
    "duration": 267,
    "start_time": "2021-12-08T17:32:17.168Z"
   },
   {
    "duration": 14,
    "start_time": "2021-12-08T17:32:29.524Z"
   },
   {
    "duration": 13,
    "start_time": "2021-12-08T17:32:51.964Z"
   },
   {
    "duration": 271,
    "start_time": "2021-12-08T17:34:11.797Z"
   },
   {
    "duration": 13,
    "start_time": "2021-12-08T17:34:17.088Z"
   },
   {
    "duration": 12,
    "start_time": "2021-12-08T17:34:57.695Z"
   },
   {
    "duration": 14,
    "start_time": "2021-12-08T17:35:12.951Z"
   },
   {
    "duration": 13,
    "start_time": "2021-12-08T17:35:56.948Z"
   },
   {
    "duration": 243,
    "start_time": "2021-12-08T17:36:20.938Z"
   },
   {
    "duration": 306,
    "start_time": "2021-12-08T17:36:29.373Z"
   },
   {
    "duration": 3676,
    "start_time": "2021-12-08T17:36:45.677Z"
   },
   {
    "duration": 3680,
    "start_time": "2021-12-08T17:36:59.708Z"
   },
   {
    "duration": 3773,
    "start_time": "2021-12-08T17:37:55.198Z"
   },
   {
    "duration": 3867,
    "start_time": "2021-12-08T17:39:41.489Z"
   },
   {
    "duration": 3762,
    "start_time": "2021-12-08T17:40:11.080Z"
   },
   {
    "duration": 226,
    "start_time": "2021-12-08T17:41:37.719Z"
   },
   {
    "duration": 13,
    "start_time": "2021-12-08T17:42:37.498Z"
   },
   {
    "duration": 4,
    "start_time": "2021-12-08T17:42:42.270Z"
   },
   {
    "duration": 13,
    "start_time": "2021-12-08T17:44:12.095Z"
   },
   {
    "duration": 273,
    "start_time": "2021-12-08T17:45:25.738Z"
   },
   {
    "duration": 7,
    "start_time": "2021-12-08T17:46:14.000Z"
   },
   {
    "duration": 240,
    "start_time": "2021-12-08T17:47:11.661Z"
   },
   {
    "duration": 238,
    "start_time": "2021-12-08T17:47:41.305Z"
   },
   {
    "duration": 250,
    "start_time": "2021-12-08T17:48:21.827Z"
   },
   {
    "duration": 22,
    "start_time": "2021-12-08T17:50:00.738Z"
   },
   {
    "duration": 40,
    "start_time": "2021-12-08T17:50:23.373Z"
   },
   {
    "duration": 250,
    "start_time": "2021-12-08T17:51:15.041Z"
   },
   {
    "duration": 305,
    "start_time": "2021-12-08T17:51:44.593Z"
   },
   {
    "duration": 245,
    "start_time": "2021-12-08T17:51:58.598Z"
   },
   {
    "duration": 254,
    "start_time": "2021-12-08T17:52:06.178Z"
   },
   {
    "duration": 271,
    "start_time": "2021-12-08T17:53:54.153Z"
   },
   {
    "duration": 519,
    "start_time": "2021-12-08T17:54:34.898Z"
   },
   {
    "duration": 9,
    "start_time": "2021-12-08T17:54:55.518Z"
   },
   {
    "duration": 9,
    "start_time": "2021-12-08T17:55:55.747Z"
   },
   {
    "duration": 538,
    "start_time": "2021-12-08T17:56:24.509Z"
   },
   {
    "duration": 444,
    "start_time": "2021-12-08T17:56:42.283Z"
   },
   {
    "duration": 9,
    "start_time": "2021-12-08T17:56:49.258Z"
   },
   {
    "duration": 8,
    "start_time": "2021-12-08T17:56:57.178Z"
   },
   {
    "duration": 9,
    "start_time": "2021-12-08T17:57:08.431Z"
   },
   {
    "duration": 262,
    "start_time": "2021-12-08T17:57:37.897Z"
   },
   {
    "duration": 420,
    "start_time": "2021-12-08T17:57:52.148Z"
   },
   {
    "duration": 235,
    "start_time": "2021-12-08T17:58:39.677Z"
   },
   {
    "duration": 234,
    "start_time": "2021-12-08T17:59:12.206Z"
   },
   {
    "duration": 9,
    "start_time": "2021-12-08T17:59:29.437Z"
   },
   {
    "duration": 10,
    "start_time": "2021-12-08T18:00:36.357Z"
   },
   {
    "duration": 11,
    "start_time": "2021-12-08T18:00:48.908Z"
   },
   {
    "duration": 6241,
    "start_time": "2021-12-08T18:01:09.518Z"
   },
   {
    "duration": 249,
    "start_time": "2021-12-08T18:01:52.683Z"
   },
   {
    "duration": 244,
    "start_time": "2021-12-08T18:02:25.195Z"
   },
   {
    "duration": 342,
    "start_time": "2021-12-08T18:03:18.793Z"
   },
   {
    "duration": 257,
    "start_time": "2021-12-08T18:03:46.969Z"
   },
   {
    "duration": 259,
    "start_time": "2021-12-08T18:04:00.619Z"
   },
   {
    "duration": 236,
    "start_time": "2021-12-08T18:04:47.078Z"
   },
   {
    "duration": 255,
    "start_time": "2021-12-08T18:05:30.476Z"
   },
   {
    "duration": 256,
    "start_time": "2021-12-08T18:06:16.201Z"
   },
   {
    "duration": 12,
    "start_time": "2021-12-08T18:06:50.991Z"
   },
   {
    "duration": 2615,
    "start_time": "2021-12-08T18:07:30.088Z"
   },
   {
    "duration": 277,
    "start_time": "2021-12-08T18:07:40.108Z"
   },
   {
    "duration": 259,
    "start_time": "2021-12-08T18:07:56.150Z"
   },
   {
    "duration": 10043,
    "start_time": "2021-12-08T18:13:18.677Z"
   },
   {
    "duration": 2194,
    "start_time": "2021-12-08T18:15:23.693Z"
   },
   {
    "duration": 1998,
    "start_time": "2021-12-08T18:15:42.159Z"
   },
   {
    "duration": 9768,
    "start_time": "2021-12-08T18:16:24.453Z"
   },
   {
    "duration": 9767,
    "start_time": "2021-12-08T18:17:04.147Z"
   },
   {
    "duration": 289,
    "start_time": "2021-12-08T18:18:01.418Z"
   },
   {
    "duration": 9629,
    "start_time": "2021-12-08T18:18:47.018Z"
   },
   {
    "duration": 7457,
    "start_time": "2021-12-08T18:19:01.418Z"
   },
   {
    "duration": 9126,
    "start_time": "2021-12-08T18:19:13.470Z"
   },
   {
    "duration": 9217,
    "start_time": "2021-12-08T18:19:55.874Z"
   },
   {
    "duration": 254,
    "start_time": "2021-12-08T18:21:28.133Z"
   },
   {
    "duration": 4,
    "start_time": "2021-12-08T18:21:59.168Z"
   },
   {
    "duration": 16,
    "start_time": "2021-12-08T18:22:01.758Z"
   },
   {
    "duration": 74145,
    "start_time": "2021-12-09T17:22:46.527Z"
   },
   {
    "duration": 23,
    "start_time": "2021-12-09T17:24:00.675Z"
   },
   {
    "duration": 4,
    "start_time": "2021-12-09T17:24:00.701Z"
   },
   {
    "duration": 26,
    "start_time": "2021-12-09T17:24:00.707Z"
   },
   {
    "duration": 5,
    "start_time": "2021-12-09T17:24:00.735Z"
   },
   {
    "duration": 17,
    "start_time": "2021-12-09T17:24:00.743Z"
   },
   {
    "duration": 11,
    "start_time": "2021-12-09T17:24:00.763Z"
   },
   {
    "duration": 15,
    "start_time": "2021-12-09T17:24:00.776Z"
   },
   {
    "duration": 6,
    "start_time": "2021-12-09T17:24:00.795Z"
   },
   {
    "duration": 16,
    "start_time": "2021-12-09T17:24:00.819Z"
   },
   {
    "duration": 13,
    "start_time": "2021-12-09T17:24:00.838Z"
   },
   {
    "duration": 97,
    "start_time": "2021-12-09T17:24:00.853Z"
   },
   {
    "duration": 18,
    "start_time": "2021-12-09T17:24:00.952Z"
   },
   {
    "duration": 8,
    "start_time": "2021-12-09T17:24:00.973Z"
   },
   {
    "duration": 7956,
    "start_time": "2021-12-09T17:24:00.984Z"
   },
   {
    "duration": 22,
    "start_time": "2021-12-09T17:24:08.942Z"
   },
   {
    "duration": 1672,
    "start_time": "2021-12-09T17:24:08.966Z"
   },
   {
    "duration": 11,
    "start_time": "2021-12-09T17:24:10.640Z"
   },
   {
    "duration": 87,
    "start_time": "2021-12-09T17:24:10.654Z"
   },
   {
    "duration": 825,
    "start_time": "2021-12-09T17:24:10.817Z"
   },
   {
    "duration": 25,
    "start_time": "2021-12-09T17:24:11.645Z"
   },
   {
    "duration": 1345,
    "start_time": "2021-12-09T17:24:11.673Z"
   },
   {
    "duration": 146207,
    "start_time": "2021-12-09T17:24:13.020Z"
   },
   {
    "duration": 1796,
    "start_time": "2021-12-09T17:26:39.230Z"
   },
   {
    "duration": 5,
    "start_time": "2021-12-09T17:26:41.029Z"
   },
   {
    "duration": 18,
    "start_time": "2021-12-09T17:26:41.037Z"
   },
   {
    "duration": 16656,
    "start_time": "2021-12-09T17:26:41.061Z"
   },
   {
    "duration": 4,
    "start_time": "2021-12-09T17:26:57.720Z"
   },
   {
    "duration": 24,
    "start_time": "2021-12-09T17:26:57.727Z"
   }
  ],
  "kernelspec": {
   "display_name": "Python 3",
   "language": "python",
   "name": "python3"
  },
  "language_info": {
   "codemirror_mode": {
    "name": "ipython",
    "version": 3
   },
   "file_extension": ".py",
   "mimetype": "text/x-python",
   "name": "python",
   "nbconvert_exporter": "python",
   "pygments_lexer": "ipython3",
   "version": "3.8.8"
  },
  "toc": {
   "base_numbering": 1,
   "nav_menu": {},
   "number_sections": true,
   "sideBar": true,
   "skip_h1_title": true,
   "title_cell": "Table of Contents",
   "title_sidebar": "Contents",
   "toc_cell": false,
   "toc_position": {
    "height": "calc(100% - 180px)",
    "left": "10px",
    "top": "150px",
    "width": "245px"
   },
   "toc_section_display": true,
   "toc_window_display": true
  }
 },
 "nbformat": 4,
 "nbformat_minor": 2
}
