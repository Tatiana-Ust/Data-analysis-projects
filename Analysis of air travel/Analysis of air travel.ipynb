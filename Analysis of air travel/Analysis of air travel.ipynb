{
 "cells": [
  {
   "cell_type": "code",
   "execution_count": 1,
   "metadata": {},
   "outputs": [],
   "source": [
    "import pandas as pd\n",
    "import matplotlib.pyplot as plt\n",
    "import requests \n",
    "from bs4 import BeautifulSoup"
   ]
  },
  {
   "cell_type": "markdown",
   "metadata": {},
   "source": [
    "## Data import and preprocessing"
   ]
  },
  {
   "cell_type": "code",
   "execution_count": 2,
   "metadata": {},
   "outputs": [],
   "source": [
    "# data import function created:\n",
    "\n",
    "def import_data(link, name):\n",
    "    sheet_id = link\n",
    "    sheet_name = name\n",
    "    url = f'https://docs.google.com/spreadsheets/d/{sheet_id}/gviz/tq?tqx=out:csv&sheet={sheet_name}'\n",
    "    name = pd.read_csv(url)\n",
    "    return name\n",
    "\n",
    "# import dataframes:\n",
    "\n",
    "flights = import_data('1y9hU3YhRlz95VPwY4xF-7na0PJ2oO_0JZ8E0MxzAvPY', 'flights')\n",
    "city = import_data('1GPO4qvUw0RKraJzFeq8PzUdn2WjU6K87KNiqQaWBMEE', 'city')\n",
    "festivals = import_data('1RN8jOelaUHZJdsZJTvp3X212fJ3paof0fmzroXc6uU4', 'festivals')"
   ]
  },
  {
   "cell_type": "markdown",
   "metadata": {},
   "source": [
    "This section will cover **general information** about dataframes. First you need to look at the first 5 lines of each dataframe to determine what information is involved in the research"
   ]
  },
  {
   "cell_type": "code",
   "execution_count": 3,
   "metadata": {},
   "outputs": [
    {
     "data": {
      "text/html": [
       "<div>\n",
       "<style scoped>\n",
       "    .dataframe tbody tr th:only-of-type {\n",
       "        vertical-align: middle;\n",
       "    }\n",
       "\n",
       "    .dataframe tbody tr th {\n",
       "        vertical-align: top;\n",
       "    }\n",
       "\n",
       "    .dataframe thead th {\n",
       "        text-align: right;\n",
       "    }\n",
       "</style>\n",
       "<table border=\"1\" class=\"dataframe\">\n",
       "  <thead>\n",
       "    <tr style=\"text-align: right;\">\n",
       "      <th></th>\n",
       "      <th>model</th>\n",
       "      <th>flights_amount</th>\n",
       "    </tr>\n",
       "  </thead>\n",
       "  <tbody>\n",
       "    <tr>\n",
       "      <th>0</th>\n",
       "      <td>Airbus A319-100</td>\n",
       "      <td>607</td>\n",
       "    </tr>\n",
       "    <tr>\n",
       "      <th>1</th>\n",
       "      <td>Airbus A321-200</td>\n",
       "      <td>960</td>\n",
       "    </tr>\n",
       "    <tr>\n",
       "      <th>2</th>\n",
       "      <td>Boeing 737-300</td>\n",
       "      <td>630</td>\n",
       "    </tr>\n",
       "    <tr>\n",
       "      <th>3</th>\n",
       "      <td>Boeing 767-300</td>\n",
       "      <td>600</td>\n",
       "    </tr>\n",
       "    <tr>\n",
       "      <th>4</th>\n",
       "      <td>Boeing 777-300</td>\n",
       "      <td>300</td>\n",
       "    </tr>\n",
       "  </tbody>\n",
       "</table>\n",
       "</div>"
      ],
      "text/plain": [
       "             model  flights_amount\n",
       "0  Airbus A319-100             607\n",
       "1  Airbus A321-200             960\n",
       "2   Boeing 737-300             630\n",
       "3   Boeing 767-300             600\n",
       "4   Boeing 777-300             300"
      ]
     },
     "metadata": {},
     "output_type": "display_data"
    }
   ],
   "source": [
    "display(flights.head())"
   ]
  },
  {
   "cell_type": "code",
   "execution_count": 4,
   "metadata": {},
   "outputs": [
    {
     "data": {
      "text/html": [
       "<div>\n",
       "<style scoped>\n",
       "    .dataframe tbody tr th:only-of-type {\n",
       "        vertical-align: middle;\n",
       "    }\n",
       "\n",
       "    .dataframe tbody tr th {\n",
       "        vertical-align: top;\n",
       "    }\n",
       "\n",
       "    .dataframe thead th {\n",
       "        text-align: right;\n",
       "    }\n",
       "</style>\n",
       "<table border=\"1\" class=\"dataframe\">\n",
       "  <thead>\n",
       "    <tr style=\"text-align: right;\">\n",
       "      <th></th>\n",
       "      <th>city</th>\n",
       "      <th>average_flights</th>\n",
       "    </tr>\n",
       "  </thead>\n",
       "  <tbody>\n",
       "    <tr>\n",
       "      <th>0</th>\n",
       "      <td>Abakan</td>\n",
       "      <td>3.870968</td>\n",
       "    </tr>\n",
       "    <tr>\n",
       "      <th>1</th>\n",
       "      <td>Anadyr</td>\n",
       "      <td>1.000000</td>\n",
       "    </tr>\n",
       "    <tr>\n",
       "      <th>2</th>\n",
       "      <td>Anapa</td>\n",
       "      <td>2.161290</td>\n",
       "    </tr>\n",
       "    <tr>\n",
       "      <th>3</th>\n",
       "      <td>Arkhangelsk</td>\n",
       "      <td>5.354839</td>\n",
       "    </tr>\n",
       "    <tr>\n",
       "      <th>4</th>\n",
       "      <td>Astrakhan</td>\n",
       "      <td>2.451613</td>\n",
       "    </tr>\n",
       "  </tbody>\n",
       "</table>\n",
       "</div>"
      ],
      "text/plain": [
       "          city  average_flights\n",
       "0       Abakan         3.870968\n",
       "1       Anadyr         1.000000\n",
       "2        Anapa         2.161290\n",
       "3  Arkhangelsk         5.354839\n",
       "4    Astrakhan         2.451613"
      ]
     },
     "metadata": {},
     "output_type": "display_data"
    }
   ],
   "source": [
    "display(city.head())"
   ]
  },
  {
   "cell_type": "code",
   "execution_count": 5,
   "metadata": {},
   "outputs": [
    {
     "data": {
      "text/html": [
       "<div>\n",
       "<style scoped>\n",
       "    .dataframe tbody tr th:only-of-type {\n",
       "        vertical-align: middle;\n",
       "    }\n",
       "\n",
       "    .dataframe tbody tr th {\n",
       "        vertical-align: top;\n",
       "    }\n",
       "\n",
       "    .dataframe thead th {\n",
       "        text-align: right;\n",
       "    }\n",
       "</style>\n",
       "<table border=\"1\" class=\"dataframe\">\n",
       "  <thead>\n",
       "    <tr style=\"text-align: right;\">\n",
       "      <th></th>\n",
       "      <th>name_of_the_festival</th>\n",
       "      <th>city</th>\n",
       "      <th>date_of_the_event</th>\n",
       "    </tr>\n",
       "  </thead>\n",
       "  <tbody>\n",
       "    <tr>\n",
       "      <th>0</th>\n",
       "      <td>Music festival \"Manor Jazz\"</td>\n",
       "      <td>Yekaterinburg</td>\n",
       "      <td>01.07.2018</td>\n",
       "    </tr>\n",
       "    <tr>\n",
       "      <th>1</th>\n",
       "      <td>Alfa Future People Music and Technology Festival</td>\n",
       "      <td>Nizhniy Novgorod</td>\n",
       "      <td>10.08.2018</td>\n",
       "    </tr>\n",
       "    <tr>\n",
       "      <th>2</th>\n",
       "      <td>Food Festival \"Oh, yes! Food!\"</td>\n",
       "      <td>St. Petersburg</td>\n",
       "      <td>21.07.2018</td>\n",
       "    </tr>\n",
       "    <tr>\n",
       "      <th>3</th>\n",
       "      <td>Good fest</td>\n",
       "      <td>Yaroslavl</td>\n",
       "      <td>29.07.2018</td>\n",
       "    </tr>\n",
       "    <tr>\n",
       "      <th>4</th>\n",
       "      <td>Park Live</td>\n",
       "      <td>Moscow</td>\n",
       "      <td>28.07.2018</td>\n",
       "    </tr>\n",
       "  </tbody>\n",
       "</table>\n",
       "</div>"
      ],
      "text/plain": [
       "                               name_of_the_festival              city  \\\n",
       "0                       Music festival \"Manor Jazz\"     Yekaterinburg   \n",
       "1  Alfa Future People Music and Technology Festival  Nizhniy Novgorod   \n",
       "2                    Food Festival \"Oh, yes! Food!\"    St. Petersburg   \n",
       "3                                         Good fest         Yaroslavl   \n",
       "4                                         Park Live            Moscow   \n",
       "\n",
       "  date_of_the_event  \n",
       "0        01.07.2018  \n",
       "1        10.08.2018  \n",
       "2        21.07.2018  \n",
       "3        29.07.2018  \n",
       "4        28.07.2018  "
      ]
     },
     "metadata": {},
     "output_type": "display_data"
    }
   ],
   "source": [
    "display(festivals.head())"
   ]
  },
  {
   "cell_type": "markdown",
   "metadata": {},
   "source": [
    "Also, for an introductory analysis, it is necessary to study the numerical parameters"
   ]
  },
  {
   "cell_type": "code",
   "execution_count": 6,
   "metadata": {},
   "outputs": [
    {
     "data": {
      "text/html": [
       "<div>\n",
       "<style scoped>\n",
       "    .dataframe tbody tr th:only-of-type {\n",
       "        vertical-align: middle;\n",
       "    }\n",
       "\n",
       "    .dataframe tbody tr th {\n",
       "        vertical-align: top;\n",
       "    }\n",
       "\n",
       "    .dataframe thead th {\n",
       "        text-align: right;\n",
       "    }\n",
       "</style>\n",
       "<table border=\"1\" class=\"dataframe\">\n",
       "  <thead>\n",
       "    <tr style=\"text-align: right;\">\n",
       "      <th></th>\n",
       "      <th>flights_amount</th>\n",
       "    </tr>\n",
       "  </thead>\n",
       "  <tbody>\n",
       "    <tr>\n",
       "      <th>count</th>\n",
       "      <td>8.000000</td>\n",
       "    </tr>\n",
       "    <tr>\n",
       "      <th>mean</th>\n",
       "      <td>2035.625000</td>\n",
       "    </tr>\n",
       "    <tr>\n",
       "      <th>std</th>\n",
       "      <td>1965.203947</td>\n",
       "    </tr>\n",
       "    <tr>\n",
       "      <th>min</th>\n",
       "      <td>300.000000</td>\n",
       "    </tr>\n",
       "    <tr>\n",
       "      <th>25%</th>\n",
       "      <td>605.250000</td>\n",
       "    </tr>\n",
       "    <tr>\n",
       "      <th>50%</th>\n",
       "      <td>795.000000</td>\n",
       "    </tr>\n",
       "    <tr>\n",
       "      <th>75%</th>\n",
       "      <td>4250.250000</td>\n",
       "    </tr>\n",
       "    <tr>\n",
       "      <th>max</th>\n",
       "      <td>4557.000000</td>\n",
       "    </tr>\n",
       "  </tbody>\n",
       "</table>\n",
       "</div>"
      ],
      "text/plain": [
       "       flights_amount\n",
       "count        8.000000\n",
       "mean      2035.625000\n",
       "std       1965.203947\n",
       "min        300.000000\n",
       "25%        605.250000\n",
       "50%        795.000000\n",
       "75%       4250.250000\n",
       "max       4557.000000"
      ]
     },
     "execution_count": 6,
     "metadata": {},
     "output_type": "execute_result"
    }
   ],
   "source": [
    "flights.describe()"
   ]
  },
  {
   "cell_type": "code",
   "execution_count": 7,
   "metadata": {},
   "outputs": [
    {
     "data": {
      "text/html": [
       "<div>\n",
       "<style scoped>\n",
       "    .dataframe tbody tr th:only-of-type {\n",
       "        vertical-align: middle;\n",
       "    }\n",
       "\n",
       "    .dataframe tbody tr th {\n",
       "        vertical-align: top;\n",
       "    }\n",
       "\n",
       "    .dataframe thead th {\n",
       "        text-align: right;\n",
       "    }\n",
       "</style>\n",
       "<table border=\"1\" class=\"dataframe\">\n",
       "  <thead>\n",
       "    <tr style=\"text-align: right;\">\n",
       "      <th></th>\n",
       "      <th>average_flights</th>\n",
       "    </tr>\n",
       "  </thead>\n",
       "  <tbody>\n",
       "    <tr>\n",
       "      <th>count</th>\n",
       "      <td>101.000000</td>\n",
       "    </tr>\n",
       "    <tr>\n",
       "      <th>mean</th>\n",
       "      <td>5.494189</td>\n",
       "    </tr>\n",
       "    <tr>\n",
       "      <th>std</th>\n",
       "      <td>13.119790</td>\n",
       "    </tr>\n",
       "    <tr>\n",
       "      <th>min</th>\n",
       "      <td>1.000000</td>\n",
       "    </tr>\n",
       "    <tr>\n",
       "      <th>25%</th>\n",
       "      <td>2.000000</td>\n",
       "    </tr>\n",
       "    <tr>\n",
       "      <th>50%</th>\n",
       "      <td>3.000000</td>\n",
       "    </tr>\n",
       "    <tr>\n",
       "      <th>75%</th>\n",
       "      <td>5.870968</td>\n",
       "    </tr>\n",
       "    <tr>\n",
       "      <th>max</th>\n",
       "      <td>129.774194</td>\n",
       "    </tr>\n",
       "  </tbody>\n",
       "</table>\n",
       "</div>"
      ],
      "text/plain": [
       "       average_flights\n",
       "count       101.000000\n",
       "mean          5.494189\n",
       "std          13.119790\n",
       "min           1.000000\n",
       "25%           2.000000\n",
       "50%           3.000000\n",
       "75%           5.870968\n",
       "max         129.774194"
      ]
     },
     "execution_count": 7,
     "metadata": {},
     "output_type": "execute_result"
    }
   ],
   "source": [
    "city.describe()"
   ]
  },
  {
   "cell_type": "markdown",
   "metadata": {},
   "source": [
    "Among other things, it is necessary to establish what types of data are present in dataframes"
   ]
  },
  {
   "cell_type": "code",
   "execution_count": 8,
   "metadata": {},
   "outputs": [
    {
     "name": "stdout",
     "output_type": "stream",
     "text": [
      "<class 'pandas.core.frame.DataFrame'>\n",
      "RangeIndex: 8 entries, 0 to 7\n",
      "Data columns (total 2 columns):\n",
      " #   Column          Non-Null Count  Dtype \n",
      "---  ------          --------------  ----- \n",
      " 0   model           8 non-null      object\n",
      " 1   flights_amount  8 non-null      int64 \n",
      "dtypes: int64(1), object(1)\n",
      "memory usage: 256.0+ bytes\n"
     ]
    }
   ],
   "source": [
    "flights.info()"
   ]
  },
  {
   "cell_type": "code",
   "execution_count": 9,
   "metadata": {},
   "outputs": [
    {
     "name": "stdout",
     "output_type": "stream",
     "text": [
      "<class 'pandas.core.frame.DataFrame'>\n",
      "RangeIndex: 101 entries, 0 to 100\n",
      "Data columns (total 2 columns):\n",
      " #   Column           Non-Null Count  Dtype  \n",
      "---  ------           --------------  -----  \n",
      " 0   city             101 non-null    object \n",
      " 1   average_flights  101 non-null    float64\n",
      "dtypes: float64(1), object(1)\n",
      "memory usage: 1.7+ KB\n"
     ]
    }
   ],
   "source": [
    "city.info()"
   ]
  },
  {
   "cell_type": "code",
   "execution_count": 10,
   "metadata": {},
   "outputs": [
    {
     "name": "stdout",
     "output_type": "stream",
     "text": [
      "<class 'pandas.core.frame.DataFrame'>\n",
      "RangeIndex: 11 entries, 0 to 10\n",
      "Data columns (total 3 columns):\n",
      " #   Column                Non-Null Count  Dtype \n",
      "---  ------                --------------  ----- \n",
      " 0   name_of_the_festival  11 non-null     object\n",
      " 1   city                  11 non-null     object\n",
      " 2   date_of_the_event     11 non-null     object\n",
      "dtypes: object(3)\n",
      "memory usage: 392.0+ bytes\n"
     ]
    }
   ],
   "source": [
    "festivals.info()"
   ]
  },
  {
   "cell_type": "markdown",
   "metadata": {},
   "source": [
    "Data on **missing** values are also investigated"
   ]
  },
  {
   "cell_type": "code",
   "execution_count": 11,
   "metadata": {},
   "outputs": [
    {
     "data": {
      "text/plain": [
       "model             0\n",
       "flights_amount    0\n",
       "dtype: int64"
      ]
     },
     "execution_count": 11,
     "metadata": {},
     "output_type": "execute_result"
    }
   ],
   "source": [
    "flights.isnull().sum()"
   ]
  },
  {
   "cell_type": "code",
   "execution_count": 12,
   "metadata": {},
   "outputs": [
    {
     "data": {
      "text/plain": [
       "city               0\n",
       "average_flights    0\n",
       "dtype: int64"
      ]
     },
     "execution_count": 12,
     "metadata": {},
     "output_type": "execute_result"
    }
   ],
   "source": [
    "city.isnull().sum()"
   ]
  },
  {
   "cell_type": "code",
   "execution_count": 13,
   "metadata": {},
   "outputs": [
    {
     "data": {
      "text/plain": [
       "name_of_the_festival    0\n",
       "city                    0\n",
       "date_of_the_event       0\n",
       "dtype: int64"
      ]
     },
     "execution_count": 13,
     "metadata": {},
     "output_type": "execute_result"
    }
   ],
   "source": [
    "festivals.isnull().sum()"
   ]
  },
  {
   "cell_type": "markdown",
   "metadata": {},
   "source": [
    "No omissions detected"
   ]
  },
  {
   "cell_type": "markdown",
   "metadata": {},
   "source": [
    "For further research, a slice of **10 cities with the largest number of incoming flights** was created and saved to a new top10 dataframe:"
   ]
  },
  {
   "cell_type": "code",
   "execution_count": 14,
   "metadata": {
    "scrolled": true
   },
   "outputs": [
    {
     "data": {
      "text/html": [
       "<div>\n",
       "<style scoped>\n",
       "    .dataframe tbody tr th:only-of-type {\n",
       "        vertical-align: middle;\n",
       "    }\n",
       "\n",
       "    .dataframe tbody tr th {\n",
       "        vertical-align: top;\n",
       "    }\n",
       "\n",
       "    .dataframe thead th {\n",
       "        text-align: right;\n",
       "    }\n",
       "</style>\n",
       "<table border=\"1\" class=\"dataframe\">\n",
       "  <thead>\n",
       "    <tr style=\"text-align: right;\">\n",
       "      <th></th>\n",
       "      <th>city</th>\n",
       "      <th>average_flights</th>\n",
       "    </tr>\n",
       "  </thead>\n",
       "  <tbody>\n",
       "    <tr>\n",
       "      <th>43</th>\n",
       "      <td>Moscow</td>\n",
       "      <td>129.774194</td>\n",
       "    </tr>\n",
       "    <tr>\n",
       "      <th>70</th>\n",
       "      <td>St. Petersburg</td>\n",
       "      <td>31.161290</td>\n",
       "    </tr>\n",
       "    <tr>\n",
       "      <th>54</th>\n",
       "      <td>Novosibirsk</td>\n",
       "      <td>17.322581</td>\n",
       "    </tr>\n",
       "    <tr>\n",
       "      <th>33</th>\n",
       "      <td>Krasnoyarsk</td>\n",
       "      <td>11.580645</td>\n",
       "    </tr>\n",
       "    <tr>\n",
       "      <th>20</th>\n",
       "      <td>Yekaterinburg</td>\n",
       "      <td>11.322581</td>\n",
       "    </tr>\n",
       "    <tr>\n",
       "      <th>67</th>\n",
       "      <td>Rostov-on-Don</td>\n",
       "      <td>10.193548</td>\n",
       "    </tr>\n",
       "    <tr>\n",
       "      <th>63</th>\n",
       "      <td>Permian</td>\n",
       "      <td>10.129032</td>\n",
       "    </tr>\n",
       "    <tr>\n",
       "      <th>10</th>\n",
       "      <td>Bryansk</td>\n",
       "      <td>10.000000</td>\n",
       "    </tr>\n",
       "    <tr>\n",
       "      <th>74</th>\n",
       "      <td>Sochi</td>\n",
       "      <td>9.612903</td>\n",
       "    </tr>\n",
       "    <tr>\n",
       "      <th>84</th>\n",
       "      <td>Ulyanovsk</td>\n",
       "      <td>9.580645</td>\n",
       "    </tr>\n",
       "  </tbody>\n",
       "</table>\n",
       "</div>"
      ],
      "text/plain": [
       "              city  average_flights\n",
       "43          Moscow       129.774194\n",
       "70  St. Petersburg        31.161290\n",
       "54     Novosibirsk        17.322581\n",
       "33     Krasnoyarsk        11.580645\n",
       "20   Yekaterinburg        11.322581\n",
       "67   Rostov-on-Don        10.193548\n",
       "63         Permian        10.129032\n",
       "10         Bryansk        10.000000\n",
       "74           Sochi         9.612903\n",
       "84       Ulyanovsk         9.580645"
      ]
     },
     "execution_count": 14,
     "metadata": {},
     "output_type": "execute_result"
    }
   ],
   "source": [
    "top10 = city.sort_values(by = 'average_flights', ascending = False).head(10)\n",
    "top10"
   ]
  },
  {
   "cell_type": "markdown",
   "metadata": {},
   "source": [
    "**Conclusion**:\n",
    "\n",
    "The 'flights' dataframe contains information about the aircraft model and the number of flights on each aircraft model.There are 8 aircraft models in total. On average, each aircraft model completed 2035.63 flights. The minimum number of flights is 300, the maximum is 4557. It contains 2 columns and 8 rows. The 'model' column belongs to the 'object' data type, because it contains information about the names of aircraft models. Column 'flights_amount' - type 'int64' with information about the number of flights on each model.\n",
    "\n",
    "The 'city' dataframe contains data about the city and the average number of arriving flights per day for each city. The list of cities includes 101 names. The average number of incoming flights to each city ranges from 1 to almost 130 per day. It also contains 2 columns and 101 rows. The 'city' column, respectively, contains the names of cities and belongs to the type 'object'. The 'average_flights' column contains information about the average number of arriving flights per day for each city, the data in it belongs to the 'float64' type.\n",
    "\n",
    "It is also worth noting that there are no missing values in the above dataframes.\n",
    "\n",
    "The data types are correct, no replacement is required. \n",
    "\n",
    "For further analysis, a 'top10' dataframe was created with a slice of data on 10 cities with the largest number of incoming flights."
   ]
  },
  {
   "cell_type": "markdown",
   "metadata": {},
   "source": [
    "## Research data analysis"
   ]
  },
  {
   "cell_type": "markdown",
   "metadata": {},
   "source": [
    "The next stage of the research will be the research of passenger demand for flights to the cities where the largest festivals are held. To do this, it is necessary to explore the preferences of users who buy tickets to certain destinations."
   ]
  },
  {
   "cell_type": "markdown",
   "metadata": {},
   "source": [
    "### Comparative analysis of the number of flights in the context of each aircraft model"
   ]
  },
  {
   "cell_type": "code",
   "execution_count": 15,
   "metadata": {},
   "outputs": [
    {
     "data": {
      "image/png": "[encoded data removed]",
      "text/plain": [
       "<Figure size 1080x360 with 1 Axes>"
      ]
     },
     "metadata": {
      "needs_background": "light"
     },
     "output_type": "display_data"
    }
   ],
   "source": [
    "flights.sort_values(by = 'flights_amount', ascending = False). plot(y = 'flights_amount', \n",
    "                                                                     x = 'model',\n",
    "                                                                     figsize = (15, 5),\n",
    "                                                                     kind = 'bar', \n",
    "                                                                     grid = True, \n",
    "                                                                     cmap = 'Pastel1', \n",
    "                                                                     title = 'Number of flights of each aircraft model')\n",
    "plt.ylabel('Number of flights')\n",
    "plt.xlabel('Model aircraft')\n",
    "plt.xticks(rotation=30);"
   ]
  },
  {
   "cell_type": "markdown",
   "metadata": {},
   "source": [
    "The leading position in the number of flights is occupied by the Cessna 208 Caravan model. This is a light single-engine general-purpose turboprop aircraft, the crew of the aircraft consists of one pilot (two pilots when performing commercial flights according to instrument flight rules), the base model carries nine passengers.\n",
    "\n",
    "The second place belongs to the 'Bombardier CRJ-200' model, with a passenger capacity of only up to 50 people.\n",
    "\n",
    "Completing the top three is the Sukhoi Superjet-100, a Russian short-haul narrow-body passenger aircraft designed to carry from 87 to 108 passengers at a range of 3050 or 4600 km.\n",
    "\n",
    "There are almost 4 times fewer flights for Airbus and Boeing aircraft models."
   ]
  },
  {
   "cell_type": "markdown",
   "metadata": {},
   "source": [
    "### Comparative analysis of the number of incoming flights per day for each city"
   ]
  },
  {
   "cell_type": "code",
   "execution_count": 16,
   "metadata": {},
   "outputs": [
    {
     "data": {
      "image/png": "[encoded data removed]",
      "text/plain": [
       "<Figure size 1080x1080 with 1 Axes>"
      ]
     },
     "metadata": {
      "needs_background": "light"
     },
     "output_type": "display_data"
    }
   ],
   "source": [
    "city.sort_values(by = 'average_flights').plot(y = 'average_flights', \n",
    "                                              x = 'city',\n",
    "                                              figsize = (15, 15),\n",
    "                                              kind = 'barh', \n",
    "                                              grid = True, \n",
    "                                              cmap = 'Pastel2',\n",
    "                                              title = 'The average number of incoming flights per day to each city')\n",
    "plt.ylabel('Average number of incoming flights per day')\n",
    "plt.xlabel('City')\n",
    "plt.xticks(rotation=0);"
   ]
  },
  {
   "cell_type": "markdown",
   "metadata": {},
   "source": [
    "Since the list of 101 cities is being investigated, it should be expected that the graph will not be indicative. Therefore, in the next subsection, this issue will be studied in the context of the top 10 cities with the largest number of incoming flights"
   ]
  },
  {
   "cell_type": "markdown",
   "metadata": {},
   "source": [
    "### Comparative analysis of the number of incoming flights per day to each city from the top 10 with the largest number of flights"
   ]
  },
  {
   "cell_type": "code",
   "execution_count": 17,
   "metadata": {},
   "outputs": [
    {
     "data": {
      "text/plain": [
       "(array([0, 1, 2, 3, 4, 5, 6, 7, 8, 9]),\n",
       " [Text(0, 0, 'Moscow'),\n",
       "  Text(1, 0, 'St. Petersburg'),\n",
       "  Text(2, 0, 'Novosibirsk'),\n",
       "  Text(3, 0, 'Krasnoyarsk'),\n",
       "  Text(4, 0, 'Yekaterinburg'),\n",
       "  Text(5, 0, 'Rostov-on-Don'),\n",
       "  Text(6, 0, 'Permian'),\n",
       "  Text(7, 0, 'Bryansk'),\n",
       "  Text(8, 0, 'Sochi'),\n",
       "  Text(9, 0, 'Ulyanovsk')])"
      ]
     },
     "execution_count": 17,
     "metadata": {},
     "output_type": "execute_result"
    },
    {
     "data": {
      "image/png": "[encoded data removed]",
      "text/plain": [
       "<Figure size 1080x360 with 1 Axes>"
      ]
     },
     "metadata": {
      "needs_background": "light"
     },
     "output_type": "display_data"
    }
   ],
   "source": [
    "top10.plot(y = 'average_flights', \n",
    "           x = 'city',\n",
    "           figsize = (15, 5),\n",
    "           kind = 'bar',\n",
    "           grid = True,\n",
    "           cmap = 'Blues_r',\n",
    "           title = 'The average number of incoming flights per day to each city')\n",
    "plt.ylabel('Average number of incoming flights per day')\n",
    "plt.xlabel('City')\n",
    "plt.xticks(rotation=30)"
   ]
  },
  {
   "cell_type": "markdown",
   "metadata": {},
   "source": [
    "The 3 largest cities of Russia are expected to occupy the leading places: Moscow with almost 130 incoming flights per day, St. Petersburg - 31 flights, and Novosibirsk - 17 flights. The list also includes Krasnoyarsk, Yekaterinburg, Rostov-on-Don, Perm, Bryansk, Sochi and Ulyanovsk with approximately the same daily number of arriving flights: from 9.6 to 11.6."
   ]
  },
  {
   "cell_type": "markdown",
   "metadata": {},
   "source": [
    "### Analysis of the venue of the largest festivals"
   ]
  },
  {
   "cell_type": "code",
   "execution_count": 18,
   "metadata": {},
   "outputs": [
    {
     "data": {
      "text/html": [
       "<div>\n",
       "<style scoped>\n",
       "    .dataframe tbody tr th:only-of-type {\n",
       "        vertical-align: middle;\n",
       "    }\n",
       "\n",
       "    .dataframe tbody tr th {\n",
       "        vertical-align: top;\n",
       "    }\n",
       "\n",
       "    .dataframe thead th {\n",
       "        text-align: right;\n",
       "    }\n",
       "</style>\n",
       "<table border=\"1\" class=\"dataframe\">\n",
       "  <thead>\n",
       "    <tr style=\"text-align: right;\">\n",
       "      <th></th>\n",
       "      <th>name_of_the_festival</th>\n",
       "      <th>city</th>\n",
       "      <th>date_of_the_event</th>\n",
       "      <th>average_flights</th>\n",
       "    </tr>\n",
       "  </thead>\n",
       "  <tbody>\n",
       "    <tr>\n",
       "      <th>0</th>\n",
       "      <td>Music festival \"Manor Jazz\"</td>\n",
       "      <td>Yekaterinburg</td>\n",
       "      <td>01.07.2018</td>\n",
       "      <td>11.322581</td>\n",
       "    </tr>\n",
       "    <tr>\n",
       "      <th>1</th>\n",
       "      <td>Food Festival \"Oh, yes! Food!\"</td>\n",
       "      <td>St. Petersburg</td>\n",
       "      <td>21.07.2018</td>\n",
       "      <td>31.161290</td>\n",
       "    </tr>\n",
       "    <tr>\n",
       "      <th>2</th>\n",
       "      <td>VK FEST</td>\n",
       "      <td>St. Petersburg</td>\n",
       "      <td>29.07.2018</td>\n",
       "      <td>31.161290</td>\n",
       "    </tr>\n",
       "    <tr>\n",
       "      <th>3</th>\n",
       "      <td>Good fest</td>\n",
       "      <td>Yaroslavl</td>\n",
       "      <td>29.07.2018</td>\n",
       "      <td>1.322581</td>\n",
       "    </tr>\n",
       "    <tr>\n",
       "      <th>4</th>\n",
       "      <td>Park Live</td>\n",
       "      <td>Moscow</td>\n",
       "      <td>28.07.2018</td>\n",
       "      <td>129.774194</td>\n",
       "    </tr>\n",
       "    <tr>\n",
       "      <th>5</th>\n",
       "      <td>Picnic Posters</td>\n",
       "      <td>Moscow</td>\n",
       "      <td>04.08.2018</td>\n",
       "      <td>129.774194</td>\n",
       "    </tr>\n",
       "    <tr>\n",
       "      <th>6</th>\n",
       "      <td>Vidfest</td>\n",
       "      <td>Moscow</td>\n",
       "      <td>08.09.2018</td>\n",
       "      <td>129.774194</td>\n",
       "    </tr>\n",
       "    <tr>\n",
       "      <th>7</th>\n",
       "      <td>Food Festival \"Oh, yes! Food!\"</td>\n",
       "      <td>Irkutsk</td>\n",
       "      <td>25.08.2018</td>\n",
       "      <td>6.032258</td>\n",
       "    </tr>\n",
       "    <tr>\n",
       "      <th>8</th>\n",
       "      <td>Food Festival \"Oh, yes! Food!\"</td>\n",
       "      <td>Vladivostok</td>\n",
       "      <td>02.09.2018</td>\n",
       "      <td>3.000000</td>\n",
       "    </tr>\n",
       "  </tbody>\n",
       "</table>\n",
       "</div>"
      ],
      "text/plain": [
       "             name_of_the_festival            city date_of_the_event  \\\n",
       "0     Music festival \"Manor Jazz\"   Yekaterinburg        01.07.2018   \n",
       "1  Food Festival \"Oh, yes! Food!\"  St. Petersburg        21.07.2018   \n",
       "2                         VK FEST  St. Petersburg        29.07.2018   \n",
       "3                       Good fest       Yaroslavl        29.07.2018   \n",
       "4                       Park Live          Moscow        28.07.2018   \n",
       "5                  Picnic Posters          Moscow        04.08.2018   \n",
       "6                         Vidfest          Moscow        08.09.2018   \n",
       "7  Food Festival \"Oh, yes! Food!\"         Irkutsk        25.08.2018   \n",
       "8  Food Festival \"Oh, yes! Food!\"     Vladivostok        02.09.2018   \n",
       "\n",
       "   average_flights  \n",
       "0        11.322581  \n",
       "1        31.161290  \n",
       "2        31.161290  \n",
       "3         1.322581  \n",
       "4       129.774194  \n",
       "5       129.774194  \n",
       "6       129.774194  \n",
       "7         6.032258  \n",
       "8         3.000000  "
      ]
     },
     "execution_count": 18,
     "metadata": {},
     "output_type": "execute_result"
    }
   ],
   "source": [
    "festivals.merge(city, how = 'inner')"
   ]
  },
  {
   "cell_type": "code",
   "execution_count": 19,
   "metadata": {},
   "outputs": [
    {
     "data": {
      "text/html": [
       "<div>\n",
       "<style scoped>\n",
       "    .dataframe tbody tr th:only-of-type {\n",
       "        vertical-align: middle;\n",
       "    }\n",
       "\n",
       "    .dataframe tbody tr th {\n",
       "        vertical-align: top;\n",
       "    }\n",
       "\n",
       "    .dataframe thead th {\n",
       "        text-align: right;\n",
       "    }\n",
       "</style>\n",
       "<table border=\"1\" class=\"dataframe\">\n",
       "  <thead>\n",
       "    <tr style=\"text-align: right;\">\n",
       "      <th></th>\n",
       "      <th>city</th>\n",
       "      <th>average_flights</th>\n",
       "    </tr>\n",
       "  </thead>\n",
       "  <tbody>\n",
       "  </tbody>\n",
       "</table>\n",
       "</div>"
      ],
      "text/plain": [
       "Empty DataFrame\n",
       "Columns: [city, average_flights]\n",
       "Index: []"
      ]
     },
     "execution_count": 19,
     "metadata": {},
     "output_type": "execute_result"
    }
   ],
   "source": [
    "city.query('city == \"Tver\"')"
   ]
  },
  {
   "cell_type": "markdown",
   "metadata": {},
   "source": [
    "The resulting dataframe does not contain information about flights to Tver, although it hosts one of the largest festivals \"Invasion 2018\""
   ]
  },
  {
   "cell_type": "markdown",
   "metadata": {},
   "source": [
    "## Conclusion"
   ]
  },
  {
   "cell_type": "markdown",
   "metadata": {},
   "source": [
    "In the course of this work, the demand of F9 airline customers buying tickets to certain destinations was investigated.\n",
    "To do this, information about the aircraft models used for airline passengers' flights and the number of flights for each model were analyzed:\n",
    "- The Cessna 208 Caravan model has the most flights. This model carries only nine passengers and is adapted to work in difficult conditions, including at unpaved airfields, respectively, it can be assumed that these aircraft are in great demand for servicing local lines, since the cost of transportation on An-2, traditionally operated on these routes, has increased due to the high cost of aviation gasoline. At the same time, the Cessna aircraft is refueled with conventional aviation kerosene.\n",
    "- The second place belongs to the 'Bombardier CRJ-200' model, with a passenger capacity of only up to 50 people.\n",
    "- The Sukhoi Superjet-100 model closes the top three - a passenger aircraft designed to carry from 87 to 108 passengers at a range of 3050 or 4600 km.\n",
    "- There are almost 4 times fewer flights for Airbus and Boeing aircraft models.\n",
    "\n",
    "Data on the average daily number of incoming flights to each of more than 100 cities were also analyzed.\n",
    "The leading places are occupied by the 3 largest cities of Russia: \n",
    "- Moscow with almost 130 incoming flights per day, \n",
    "- Saint Petersburg - 31 flights, \n",
    "- Novosibirsk - 17 flights,\n",
    "- Krasnoyarsk, Yekaterinburg, Rostov-on-Don, Perm, Bryansk, Sochi and Ulyanovsk with approximately the same daily number of arriving flights: from 9.6 to 11.6.\n",
    "\n",
    "Such a number of flights to Moscow is primarily due to the fact that this city is a connected point for many routes, because for many cities there is no direct air line. For example, it may be difficult to fly directly from Irkutsk to Bryansk.\n",
    "\n",
    "When analyzing the summary table from these cities with festivals held in them and the number of flights to these cities , the following conclusions can be drawn:\n",
    "- Half of the festivals are held in Moscow (3 events) and St. Petersburg (2 events). Since these cities occupy leading positions in the list of cities with the largest number of incoming flights, respectively, everything is fine.\n",
    "- In Yekaterinburg, Nizhny Novgorod and Irkutsk there was 1 festival each. It should also be noted that an average of ~ 6 to ~ 11 flights a day arrive in these cities.\n",
    "- Cities such as Yaroslavl and Vladivostok were also venues for major festivals in September 2018, however, quite a few flights arrive in them: ~ 1 and 3 flights, respectively. It is necessary to analyze the demand of passengers for these destinations and, if the need is identified, add flights to the above cities to increase the airline's profit.\n",
    "- Tver has also become the venue for the festival \"Invasion 2018\", but the airline F9 has no flights in this direction. It can be concluded that the company is missing revenue in this direction and it should be studied more whether it makes sense to create a flight to this city.\n",
    "\n",
    "If there is additional data not only about the place of arrival, but also about the place of departure of the aircraft, you can perform an analysis and give recommendations for the operation of aircraft models. In this situation, it is problematic to do this, since even the aircraft models from the leading three with the largest number of flights are strikingly different from each other not only in flight distance, but also in passenger capacity."
   ]
  }
 ],
 "metadata": {
  "ExecuteTimeLog": [
   {
    "duration": 627,
    "start_time": "2021-09-13T10:44:32.657Z"
   },
   {
    "duration": 4322,
    "start_time": "2021-09-13T10:45:36.821Z"
   },
   {
    "duration": 28,
    "start_time": "2021-09-13T11:00:18.307Z"
   },
   {
    "duration": 21,
    "start_time": "2021-09-13T11:00:31.851Z"
   },
   {
    "duration": 24,
    "start_time": "2021-09-13T11:01:12.314Z"
   },
   {
    "duration": 312,
    "start_time": "2021-09-14T10:40:01.812Z"
   },
   {
    "duration": 579,
    "start_time": "2021-09-14T10:40:08.804Z"
   },
   {
    "duration": 28,
    "start_time": "2021-09-14T10:40:09.384Z"
   },
   {
    "duration": 22,
    "start_time": "2021-09-14T10:40:09.414Z"
   },
   {
    "duration": 13,
    "start_time": "2021-09-14T10:40:09.437Z"
   },
   {
    "duration": 11,
    "start_time": "2021-09-14T10:40:09.451Z"
   },
   {
    "duration": 12,
    "start_time": "2021-09-14T10:40:59.708Z"
   },
   {
    "duration": 15,
    "start_time": "2021-09-14T10:41:09.554Z"
   },
   {
    "duration": 17,
    "start_time": "2021-09-14T10:42:41.949Z"
   },
   {
    "duration": 8,
    "start_time": "2021-09-14T10:42:45.519Z"
   },
   {
    "duration": 16,
    "start_time": "2021-09-14T10:42:50.923Z"
   },
   {
    "duration": 9,
    "start_time": "2021-09-14T10:42:55.180Z"
   },
   {
    "duration": 13,
    "start_time": "2021-09-14T10:47:08.353Z"
   },
   {
    "duration": 11,
    "start_time": "2021-09-14T10:47:22.535Z"
   },
   {
    "duration": 317,
    "start_time": "2021-09-14T10:47:55.303Z"
   },
   {
    "duration": 9,
    "start_time": "2021-09-14T10:48:30.321Z"
   },
   {
    "duration": 11,
    "start_time": "2021-09-14T10:49:40.470Z"
   },
   {
    "duration": 6,
    "start_time": "2021-09-14T10:52:34.224Z"
   },
   {
    "duration": 4,
    "start_time": "2021-09-14T10:53:19.765Z"
   },
   {
    "duration": 77,
    "start_time": "2021-09-14T10:54:59.528Z"
   },
   {
    "duration": 6,
    "start_time": "2021-09-14T10:55:08.767Z"
   },
   {
    "duration": 5,
    "start_time": "2021-09-14T10:55:17.912Z"
   },
   {
    "duration": 6,
    "start_time": "2021-09-14T10:55:26.977Z"
   },
   {
    "duration": 9,
    "start_time": "2021-09-14T11:13:45.988Z"
   },
   {
    "duration": 599,
    "start_time": "2021-09-14T11:23:14.026Z"
   },
   {
    "duration": 3,
    "start_time": "2021-09-14T11:23:28.835Z"
   },
   {
    "duration": 253,
    "start_time": "2021-09-14T11:23:32.417Z"
   },
   {
    "duration": 247,
    "start_time": "2021-09-14T11:33:10.612Z"
   },
   {
    "duration": 1531,
    "start_time": "2021-09-14T11:38:39.088Z"
   },
   {
    "duration": 268,
    "start_time": "2021-09-14T11:40:38.089Z"
   },
   {
    "duration": 264,
    "start_time": "2021-09-14T11:41:05.574Z"
   },
   {
    "duration": 276,
    "start_time": "2021-09-14T11:41:16.558Z"
   },
   {
    "duration": 1021,
    "start_time": "2021-09-14T11:41:31.645Z"
   },
   {
    "duration": 16,
    "start_time": "2021-09-14T11:41:47.490Z"
   },
   {
    "duration": 244,
    "start_time": "2021-09-14T11:42:16.081Z"
   },
   {
    "duration": 7,
    "start_time": "2021-09-14T11:43:11.153Z"
   },
   {
    "duration": 9,
    "start_time": "2021-09-14T11:43:16.018Z"
   },
   {
    "duration": 245,
    "start_time": "2021-09-14T11:43:27.734Z"
   },
   {
    "duration": 8,
    "start_time": "2021-09-14T11:43:39.404Z"
   },
   {
    "duration": 10,
    "start_time": "2021-09-14T11:43:41.602Z"
   },
   {
    "duration": 6,
    "start_time": "2021-09-14T11:43:48.620Z"
   },
   {
    "duration": 10,
    "start_time": "2021-09-14T11:43:49.306Z"
   },
   {
    "duration": 625,
    "start_time": "2021-09-14T11:45:03.624Z"
   },
   {
    "duration": 17,
    "start_time": "2021-09-14T11:45:04.251Z"
   },
   {
    "duration": 32,
    "start_time": "2021-09-14T11:45:04.270Z"
   },
   {
    "duration": 35,
    "start_time": "2021-09-14T11:45:04.305Z"
   },
   {
    "duration": 23,
    "start_time": "2021-09-14T11:45:04.342Z"
   },
   {
    "duration": 39,
    "start_time": "2021-09-14T11:45:04.366Z"
   },
   {
    "duration": 27,
    "start_time": "2021-09-14T11:45:04.406Z"
   },
   {
    "duration": 18,
    "start_time": "2021-09-14T11:45:04.435Z"
   },
   {
    "duration": 34,
    "start_time": "2021-09-14T11:45:04.455Z"
   },
   {
    "duration": 28,
    "start_time": "2021-09-14T11:45:04.493Z"
   },
   {
    "duration": 23,
    "start_time": "2021-09-14T11:45:04.523Z"
   },
   {
    "duration": 23,
    "start_time": "2021-09-14T11:45:04.548Z"
   },
   {
    "duration": 285,
    "start_time": "2021-09-14T11:45:04.572Z"
   },
   {
    "duration": 1853,
    "start_time": "2021-09-14T11:45:04.859Z"
   },
   {
    "duration": 11,
    "start_time": "2021-09-14T11:45:06.713Z"
   },
   {
    "duration": 13,
    "start_time": "2021-09-14T11:45:06.726Z"
   },
   {
    "duration": 1447,
    "start_time": "2021-09-14T11:45:32.408Z"
   },
   {
    "duration": 302,
    "start_time": "2021-09-14T11:47:03.002Z"
   },
   {
    "duration": 243,
    "start_time": "2021-09-14T11:47:16.688Z"
   },
   {
    "duration": 302,
    "start_time": "2021-09-14T11:47:33.246Z"
   },
   {
    "duration": 245,
    "start_time": "2021-09-14T11:47:56.158Z"
   },
   {
    "duration": 251,
    "start_time": "2021-09-14T11:48:14.120Z"
   },
   {
    "duration": 244,
    "start_time": "2021-09-14T11:49:05.491Z"
   },
   {
    "duration": 6668,
    "start_time": "2021-09-14T11:49:24.850Z"
   },
   {
    "duration": 1301,
    "start_time": "2021-09-14T11:50:13.654Z"
   },
   {
    "duration": 439,
    "start_time": "2021-09-14T11:54:03.792Z"
   },
   {
    "duration": 252,
    "start_time": "2021-09-14T11:54:24.653Z"
   },
   {
    "duration": 262,
    "start_time": "2021-09-14T11:54:29.053Z"
   },
   {
    "duration": 422,
    "start_time": "2021-09-14T11:54:38.854Z"
   },
   {
    "duration": 344,
    "start_time": "2021-09-14T11:54:59.930Z"
   },
   {
    "duration": 252,
    "start_time": "2021-09-14T11:55:05.321Z"
   },
   {
    "duration": 168,
    "start_time": "2021-09-14T12:02:18.912Z"
   },
   {
    "duration": 53,
    "start_time": "2021-09-14T12:04:54.157Z"
   },
   {
    "duration": 50,
    "start_time": "2021-09-14T12:06:07.187Z"
   },
   {
    "duration": 8,
    "start_time": "2021-09-14T12:06:53.016Z"
   },
   {
    "duration": 269,
    "start_time": "2021-09-14T12:08:04.698Z"
   },
   {
    "duration": 13,
    "start_time": "2021-09-14T12:10:30.537Z"
   },
   {
    "duration": 10,
    "start_time": "2021-09-14T12:10:51.551Z"
   },
   {
    "duration": 260,
    "start_time": "2021-09-14T12:11:04.669Z"
   },
   {
    "duration": 12,
    "start_time": "2021-09-14T12:11:11.402Z"
   },
   {
    "duration": 13,
    "start_time": "2021-09-14T12:12:06.199Z"
   },
   {
    "duration": 242,
    "start_time": "2021-09-14T12:13:18.755Z"
   },
   {
    "duration": 12,
    "start_time": "2021-09-14T12:13:23.598Z"
   },
   {
    "duration": 281,
    "start_time": "2021-09-14T12:13:40.657Z"
   },
   {
    "duration": 13,
    "start_time": "2021-09-14T12:14:57.024Z"
   },
   {
    "duration": 10,
    "start_time": "2021-09-14T12:15:09.330Z"
   },
   {
    "duration": 297,
    "start_time": "2021-09-14T12:15:24.675Z"
   },
   {
    "duration": 21,
    "start_time": "2021-09-14T12:15:35.265Z"
   },
   {
    "duration": 12,
    "start_time": "2021-09-14T12:20:21.731Z"
   },
   {
    "duration": 14,
    "start_time": "2021-09-14T12:20:53.473Z"
   },
   {
    "duration": 12,
    "start_time": "2021-09-14T12:21:08.529Z"
   },
   {
    "duration": 13,
    "start_time": "2021-09-14T12:22:43.502Z"
   },
   {
    "duration": 303,
    "start_time": "2021-09-14T12:23:01.639Z"
   },
   {
    "duration": 14,
    "start_time": "2021-09-14T12:23:20.019Z"
   },
   {
    "duration": 12,
    "start_time": "2021-09-14T12:23:34.836Z"
   },
   {
    "duration": 12,
    "start_time": "2021-09-14T12:24:20.089Z"
   },
   {
    "duration": 8,
    "start_time": "2021-09-14T12:26:17.384Z"
   },
   {
    "duration": 801,
    "start_time": "2021-09-14T14:30:45.906Z"
   },
   {
    "duration": 17,
    "start_time": "2021-09-14T14:30:46.708Z"
   },
   {
    "duration": 24,
    "start_time": "2021-09-14T14:30:46.730Z"
   },
   {
    "duration": 16,
    "start_time": "2021-09-14T14:30:46.756Z"
   },
   {
    "duration": 18,
    "start_time": "2021-09-14T14:30:46.774Z"
   },
   {
    "duration": 26,
    "start_time": "2021-09-14T14:30:46.794Z"
   },
   {
    "duration": 18,
    "start_time": "2021-09-14T14:30:46.822Z"
   },
   {
    "duration": 13,
    "start_time": "2021-09-14T14:30:46.842Z"
   },
   {
    "duration": 11,
    "start_time": "2021-09-14T14:30:46.857Z"
   },
   {
    "duration": 16,
    "start_time": "2021-09-14T14:30:46.870Z"
   },
   {
    "duration": 21,
    "start_time": "2021-09-14T14:30:46.888Z"
   },
   {
    "duration": 16,
    "start_time": "2021-09-14T14:30:46.911Z"
   },
   {
    "duration": 323,
    "start_time": "2021-09-14T14:30:46.929Z"
   },
   {
    "duration": 1513,
    "start_time": "2021-09-14T14:30:47.253Z"
   },
   {
    "duration": 311,
    "start_time": "2021-09-14T14:30:48.769Z"
   },
   {
    "duration": 56,
    "start_time": "2021-09-14T14:30:49.082Z"
   },
   {
    "duration": 13,
    "start_time": "2021-09-14T14:30:49.140Z"
   },
   {
    "duration": 21,
    "start_time": "2021-09-14T14:30:49.154Z"
   },
   {
    "duration": 853,
    "start_time": "2021-09-14T14:31:48.861Z"
   },
   {
    "duration": 17,
    "start_time": "2021-09-14T14:31:49.716Z"
   },
   {
    "duration": 37,
    "start_time": "2021-09-14T14:31:49.735Z"
   },
   {
    "duration": 45,
    "start_time": "2021-09-14T14:31:49.774Z"
   },
   {
    "duration": 38,
    "start_time": "2021-09-14T14:31:49.821Z"
   },
   {
    "duration": 27,
    "start_time": "2021-09-14T14:31:49.861Z"
   },
   {
    "duration": 23,
    "start_time": "2021-09-14T14:31:49.889Z"
   },
   {
    "duration": 30,
    "start_time": "2021-09-14T14:31:49.915Z"
   },
   {
    "duration": 26,
    "start_time": "2021-09-14T14:31:49.947Z"
   },
   {
    "duration": 29,
    "start_time": "2021-09-14T14:31:49.976Z"
   },
   {
    "duration": 37,
    "start_time": "2021-09-14T14:31:50.006Z"
   },
   {
    "duration": 33,
    "start_time": "2021-09-14T14:31:50.044Z"
   },
   {
    "duration": 394,
    "start_time": "2021-09-14T14:31:50.080Z"
   },
   {
    "duration": 1737,
    "start_time": "2021-09-14T14:31:50.476Z"
   },
   {
    "duration": 326,
    "start_time": "2021-09-14T14:31:52.215Z"
   },
   {
    "duration": 59,
    "start_time": "2021-09-14T14:31:52.543Z"
   },
   {
    "duration": 13,
    "start_time": "2021-09-14T14:31:52.604Z"
   },
   {
    "duration": 12,
    "start_time": "2021-09-14T14:31:52.618Z"
   },
   {
    "duration": 254,
    "start_time": "2021-09-14T14:37:39.821Z"
   },
   {
    "duration": 264,
    "start_time": "2021-09-14T14:37:44.777Z"
   },
   {
    "duration": 770,
    "start_time": "2021-09-14T14:42:31.973Z"
   },
   {
    "duration": 17,
    "start_time": "2021-09-14T14:42:32.745Z"
   },
   {
    "duration": 20,
    "start_time": "2021-09-14T14:42:32.764Z"
   },
   {
    "duration": 16,
    "start_time": "2021-09-14T14:42:32.786Z"
   },
   {
    "duration": 15,
    "start_time": "2021-09-14T14:42:32.804Z"
   },
   {
    "duration": 17,
    "start_time": "2021-09-14T14:42:32.821Z"
   },
   {
    "duration": 13,
    "start_time": "2021-09-14T14:42:32.840Z"
   },
   {
    "duration": 12,
    "start_time": "2021-09-14T14:42:32.856Z"
   },
   {
    "duration": 12,
    "start_time": "2021-09-14T14:42:32.870Z"
   },
   {
    "duration": 11,
    "start_time": "2021-09-14T14:42:32.884Z"
   },
   {
    "duration": 8,
    "start_time": "2021-09-14T14:42:32.897Z"
   },
   {
    "duration": 17,
    "start_time": "2021-09-14T14:42:32.907Z"
   },
   {
    "duration": 317,
    "start_time": "2021-09-14T14:42:32.926Z"
   },
   {
    "duration": 1538,
    "start_time": "2021-09-14T14:42:33.245Z"
   },
   {
    "duration": 292,
    "start_time": "2021-09-14T14:42:34.786Z"
   },
   {
    "duration": 60,
    "start_time": "2021-09-14T14:42:35.081Z"
   },
   {
    "duration": 11,
    "start_time": "2021-09-14T14:42:35.143Z"
   },
   {
    "duration": 24,
    "start_time": "2021-09-14T14:42:35.155Z"
   },
   {
    "duration": 347,
    "start_time": "2021-09-14T14:57:59.851Z"
   },
   {
    "duration": 1153,
    "start_time": "2021-09-14T14:58:13.341Z"
   },
   {
    "duration": 16,
    "start_time": "2021-09-14T14:58:14.497Z"
   },
   {
    "duration": 19,
    "start_time": "2021-09-14T14:58:14.516Z"
   },
   {
    "duration": 15,
    "start_time": "2021-09-14T14:58:14.538Z"
   },
   {
    "duration": 25,
    "start_time": "2021-09-14T14:58:14.556Z"
   },
   {
    "duration": 21,
    "start_time": "2021-09-14T14:58:14.584Z"
   },
   {
    "duration": 16,
    "start_time": "2021-09-14T14:58:14.607Z"
   },
   {
    "duration": 44,
    "start_time": "2021-09-14T14:58:14.627Z"
   },
   {
    "duration": 15,
    "start_time": "2021-09-14T14:58:14.674Z"
   },
   {
    "duration": 11,
    "start_time": "2021-09-14T14:58:14.692Z"
   },
   {
    "duration": 9,
    "start_time": "2021-09-14T14:58:14.706Z"
   },
   {
    "duration": 12,
    "start_time": "2021-09-14T14:58:14.718Z"
   },
   {
    "duration": 521,
    "start_time": "2021-09-14T14:58:14.764Z"
   },
   {
    "duration": 2646,
    "start_time": "2021-09-14T14:58:15.287Z"
   },
   {
    "duration": 513,
    "start_time": "2021-09-14T14:58:17.935Z"
   },
   {
    "duration": 195,
    "start_time": "2021-09-14T14:58:18.450Z"
   },
   {
    "duration": 17,
    "start_time": "2021-09-14T14:58:18.647Z"
   },
   {
    "duration": 13,
    "start_time": "2021-09-14T14:58:18.667Z"
   },
   {
    "duration": 2363,
    "start_time": "2021-09-14T15:00:07.281Z"
   },
   {
    "duration": 1042,
    "start_time": "2021-09-14T15:00:26.804Z"
   },
   {
    "duration": 16,
    "start_time": "2021-09-14T15:00:27.849Z"
   },
   {
    "duration": 19,
    "start_time": "2021-09-14T15:00:27.868Z"
   },
   {
    "duration": 16,
    "start_time": "2021-09-14T15:00:27.890Z"
   },
   {
    "duration": 15,
    "start_time": "2021-09-14T15:00:27.909Z"
   },
   {
    "duration": 35,
    "start_time": "2021-09-14T15:00:27.927Z"
   },
   {
    "duration": 18,
    "start_time": "2021-09-14T15:00:27.964Z"
   },
   {
    "duration": 9,
    "start_time": "2021-09-14T15:00:27.986Z"
   },
   {
    "duration": 15,
    "start_time": "2021-09-14T15:00:27.998Z"
   },
   {
    "duration": 11,
    "start_time": "2021-09-14T15:00:28.015Z"
   },
   {
    "duration": 38,
    "start_time": "2021-09-14T15:00:28.029Z"
   },
   {
    "duration": 14,
    "start_time": "2021-09-14T15:00:28.070Z"
   },
   {
    "duration": 710,
    "start_time": "2021-09-14T15:00:28.087Z"
   },
   {
    "duration": 2400,
    "start_time": "2021-09-14T15:00:28.800Z"
   },
   {
    "duration": 470,
    "start_time": "2021-09-14T15:00:31.202Z"
   },
   {
    "duration": 94,
    "start_time": "2021-09-14T15:00:31.675Z"
   },
   {
    "duration": 16,
    "start_time": "2021-09-14T15:00:31.772Z"
   },
   {
    "duration": 21,
    "start_time": "2021-09-14T15:00:31.790Z"
   },
   {
    "duration": 125,
    "start_time": "2021-09-14T16:04:03.959Z"
   },
   {
    "duration": 98,
    "start_time": "2021-09-14T16:05:00.420Z"
   },
   {
    "duration": 3290,
    "start_time": "2021-09-14T16:05:25.746Z"
   },
   {
    "duration": 2815,
    "start_time": "2021-09-14T16:05:41.384Z"
   },
   {
    "duration": 2597,
    "start_time": "2021-09-14T16:08:47.881Z"
   },
   {
    "duration": 398,
    "start_time": "2021-09-14T16:09:30.757Z"
   },
   {
    "duration": 1014,
    "start_time": "2021-09-14T16:09:54.896Z"
   },
   {
    "duration": 16,
    "start_time": "2021-09-14T16:09:55.913Z"
   },
   {
    "duration": 33,
    "start_time": "2021-09-14T16:09:55.931Z"
   },
   {
    "duration": 24,
    "start_time": "2021-09-14T16:09:55.966Z"
   },
   {
    "duration": 24,
    "start_time": "2021-09-14T16:09:55.992Z"
   },
   {
    "duration": 35,
    "start_time": "2021-09-14T16:09:56.018Z"
   },
   {
    "duration": 25,
    "start_time": "2021-09-14T16:09:56.055Z"
   },
   {
    "duration": 23,
    "start_time": "2021-09-14T16:09:56.083Z"
   },
   {
    "duration": 22,
    "start_time": "2021-09-14T16:09:56.108Z"
   },
   {
    "duration": 13,
    "start_time": "2021-09-14T16:09:56.132Z"
   },
   {
    "duration": 25,
    "start_time": "2021-09-14T16:09:56.148Z"
   },
   {
    "duration": 28,
    "start_time": "2021-09-14T16:09:56.175Z"
   },
   {
    "duration": 490,
    "start_time": "2021-09-14T16:09:56.206Z"
   },
   {
    "duration": 2546,
    "start_time": "2021-09-14T16:09:56.699Z"
   },
   {
    "duration": 455,
    "start_time": "2021-09-14T16:09:59.247Z"
   },
   {
    "duration": 214,
    "start_time": "2021-09-14T16:09:59.705Z"
   },
   {
    "duration": 16,
    "start_time": "2021-09-14T16:09:59.921Z"
   },
   {
    "duration": 13,
    "start_time": "2021-09-14T16:09:59.939Z"
   },
   {
    "duration": 10,
    "start_time": "2021-09-14T16:15:13.205Z"
   }
  ],
  "kernelspec": {
   "display_name": "Python 3",
   "language": "python",
   "name": "python3"
  },
  "language_info": {
   "codemirror_mode": {
    "name": "ipython",
    "version": 3
   },
   "file_extension": ".py",
   "mimetype": "text/x-python",
   "name": "python",
   "nbconvert_exporter": "python",
   "pygments_lexer": "ipython3",
   "version": "3.8.8"
  },
  "toc": {
   "base_numbering": 1,
   "nav_menu": {},
   "number_sections": true,
   "sideBar": true,
   "skip_h1_title": true,
   "title_cell": "Table of Contents",
   "title_sidebar": "Contents",
   "toc_cell": false,
   "toc_position": {
    "height": "calc(100% - 180px)",
    "left": "10px",
    "top": "150px",
    "width": "216.391px"
   },
   "toc_section_display": true,
   "toc_window_display": true
  }
 },
 "nbformat": 4,
 "nbformat_minor": 2
}
